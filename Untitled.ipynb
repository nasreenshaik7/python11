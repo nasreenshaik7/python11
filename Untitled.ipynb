{
 "cells": [
  {
   "cell_type": "markdown",
   "id": "66476d4f",
   "metadata": {},
   "source": [
    "# Assaignment"
   ]
  },
  {
   "cell_type": "raw",
   "id": "177af4ad",
   "metadata": {},
   "source": [
    "Q1. Why do we call Python as a general purpose and high-level programming\n",
    "language?\n",
    "\n",
    "ans:Python is scripting, general-purpose, high-level, and interpreted       programming language.\n",
    "It also provides the object-oriented programming approach.\n",
    "high-level means it's easy for humans to understand.\n",
    "\n",
    " "
   ]
  },
  {
   "cell_type": "raw",
   "id": "90ee4374",
   "metadata": {},
   "source": [
    "Q2. Why is Python called a dynamically typed language?\n",
    "\n",
    "ans: Dynamic typing means that the type of the variable is determined only during runtime."
   ]
  },
  {
   "cell_type": "raw",
   "id": "dbd45120",
   "metadata": {},
   "source": [
    "Q3. List some pros and cons of Python programming language?\n",
    "pros:\n",
    "It's Simple.\n",
    "It's Free.\n",
    "It's Easy to Use.\n",
    "It's Highly Compatible.\n",
    "It is Object-Oriented.\n",
    "It has Lots of Libraries.\n",
    "It has Built-in Data Structures.\n",
    "It's Widely Applicable.\n",
    "\n",
    "cons:\n",
    "\n",
    "Speed Limitations.\n",
    "We have seen that Python code is executed line by line.\n",
    "Weak in Mobile Computing and Browsers. While it serves as an excellent server-side language, Python is much rarely seen on the client-side.\n",
    "Design Restrictions. ...\n",
    "Underdeveloped Database Access Layers.\n",
    "Simple."
   ]
  }
 ],
 "metadata": {
  "kernelspec": {
   "display_name": "Python 3 (ipykernel)",
   "language": "python",
   "name": "python3"
  },
  "language_info": {
   "codemirror_mode": {
    "name": "ipython",
    "version": 3
   },
   "file_extension": ".py",
   "mimetype": "text/x-python",
   "name": "python",
   "nbconvert_exporter": "python",
   "pygments_lexer": "ipython3",
   "version": "3.9.13"
  }
 },
 "nbformat": 4,
 "nbformat_minor": 5
}
