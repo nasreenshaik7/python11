{
 "cells": [
  {
   "cell_type": "markdown",
   "id": "e46fb284",
   "metadata": {},
   "source": [
    "# Assaignment"
   ]
  },
  {
   "cell_type": "code",
   "execution_count": null,
   "id": "08856ff4",
   "metadata": {},
   "outputs": [],
   "source": [
    "Q1. Why do we call Python as a general purpose and high-level programming\n",
    "language?\n",
    "\n",
    "ans:Python is scripting, general-purpose, high-level, and interpreted       programming language.\n",
    "It also provides the object-oriented programming approach.\n",
    "high-level means it's easy for humans to understand.\n",
    "\n",
    " "
   ]
  },
  {
   "cell_type": "code",
   "execution_count": null,
   "id": "039b818f",
   "metadata": {},
   "outputs": [],
   "source": [
    "Q2. Why is Python called a dynamically typed language?\n",
    "\n",
    "ans: Dynamic typing means that the type of the variable is determined only during runtime."
   ]
  },
  {
   "cell_type": "code",
   "execution_count": null,
   "id": "7c1211c0",
   "metadata": {},
   "outputs": [],
   "source": [
    "Q3. List some pros and cons of Python programming language?\n",
    "pros:\n",
    "It's Simple.\n",
    "It's Free.\n",
    "It's Easy to Use.\n",
    "It's Highly Compatible.\n",
    "It is Object-Oriented.\n",
    "It has Lots of Libraries.\n",
    "It has Built-in Data Structures.\n",
    "It's Widely Applicable.\n",
    "\n",
    "cons:\n",
    "\n",
    "=>Speed Limitations.\n",
    "=>We have seen that Python code is executed line by line.\n",
    "=>Weak in Mobile Computing and Browsers. While it serves as an excellent \n",
    "=>server-side language, Python is much rarely seen on the client-side.\n",
    "=>Design Restrictions.\n",
    "=>Underdeveloped Database Access Layers.\n"
   ]
  },
  {
   "cell_type": "code",
   "execution_count": null,
   "id": "d93c26d5",
   "metadata": {},
   "outputs": [],
   "source": [
    "Q4. In what all domains can we use Python?\n",
    "ans: \n",
    "1.Web development. Any business must invest in web development.\n",
    "2.Data science. Python is an excellent tool for creating data-driven solutions. \n",
    "3.OS development.\n",
    "4.Scientific programming.\n",
    "5.Gaming."
   ]
  },
  {
   "cell_type": "code",
   "execution_count": null,
   "id": "8bd5dd14",
   "metadata": {},
   "outputs": [],
   "source": [
    "Q5. What are variable and how can we declare them?\n",
    "\n",
    "A Python variable is a symbolic name that is a reference or pointer to an object. \n",
    "Once an object is assigned to a variable, you can refer to the object by that name. But the data itself is still\n",
    "contained within the object. The data type of the variable will be automatically determined from the value assigned,\n",
    "we need not define it explicitly.For example: a=10"
   ]
  },
  {
   "cell_type": "code",
   "execution_count": null,
   "id": "d31e1933",
   "metadata": {},
   "outputs": [],
   "source": [
    "Q6. How can we take an input from the user in Python?\n",
    "ans:\n",
    " In Python, Using the input() function, we take input from a user, and using the print() function, we display output on the screen. Using the input() function, users can give any information to the application in the strings or numbers format."
   ]
  },
  {
   "cell_type": "code",
   "execution_count": null,
   "id": "09667fd5",
   "metadata": {},
   "outputs": [],
   "source": [
    "Q7. What is the default datatype of the value that has been taken as an input using input() function?\n",
    "\n",
    "ans:the default datatype of the value that has been taken as an input using the input() function\n",
    "    by default returns the value as string data type."
   ]
  },
  {
   "cell_type": "code",
   "execution_count": null,
   "id": "cfd9ed6c",
   "metadata": {},
   "outputs": [],
   "source": [
    "Q8. What is type casting?\n",
    "ans:\n",
    "  The conversion of one data type into the other data type is known as type casting in python\n",
    "or type conversion in python. Python supports a wide variety of functions or methods like: int(), float(), str(), \n",
    "    ord(), hex(), oct(), tuple(), set(), list(), dict(), etc. for the type casting in python."
   ]
  },
  {
   "cell_type": "code",
   "execution_count": null,
   "id": "3889721c",
   "metadata": {},
   "outputs": [],
   "source": [
    "Q9. Can we take more than one input from the user using single input() function? If yes, how? If no, why?\n",
    "\n",
    "ans:No, python user input() function takes only one argument."
   ]
  },
  {
   "cell_type": "code",
   "execution_count": null,
   "id": "bc7440f9",
   "metadata": {},
   "outputs": [],
   "source": [
    "Q10. What are keywords?\n",
    "ans:\n",
    " Python keywords are special reserved words that have specific meanings and purposes\n",
    "and can't be used for anything but those specific purposes. \n",
    "These keywords are always available—you'll never have to import them into your code. Python keywords are \n",
    "different from Python's built-in functions and types."
   ]
  },
  {
   "cell_type": "code",
   "execution_count": null,
   "id": "0c7db4a8",
   "metadata": {},
   "outputs": [],
   "source": [
    "Q11. Can we use keywords as a variable? Support your answer with reason.\n",
    "ans:\n",
    " We cannot use a keyword as a variable name, function name, or any other identifier.\n",
    "They are used to define the syntax and structure of the Python language.\n",
    "All the keywords except True , False and None are in lowercase and they must be written as they are."
   ]
  },
  {
   "cell_type": "code",
   "execution_count": null,
   "id": "d0133917",
   "metadata": {},
   "outputs": [],
   "source": [
    "Q12. What is indentation? What's the use of indentaion in Python?\n",
    "\n",
    "Indentation refers to the spaces at the beginning of a code line.\n",
    "Where in other programming languages the indentation in code is for readability only, \n",
    "the indentation in Python is very important. Python uses indentation to indicate a block of code."
   ]
  },
  {
   "cell_type": "code",
   "execution_count": null,
   "id": "70ebd1ed",
   "metadata": {},
   "outputs": [],
   "source": [
    "Q13. How can we throw some output in Python?\n",
    "\n",
    "The basic way to do output is the print statement.In Python, the print() \n",
    "function is used to get the output and debug the code. To end the printed line with a newline,\n",
    "add a print statement without any objects. This will print to any object that implements write(), which includes file objects.\n"
   ]
  },
  {
   "cell_type": "code",
   "execution_count": null,
   "id": "49e4c6ff",
   "metadata": {},
   "outputs": [],
   "source": [
    "Q14. What are operators in Python?\n",
    "\n",
    " an operator is a character or characters that determine the action that is to be performed or considered.\n",
    "    Operators are used to perform operations on variables and values.operators in python: \n",
    "Arithmetic operators\n",
    "Assignment operators\n",
    "Comparison operators\n",
    "Logical operators\n",
    "Identity operators\n",
    "Membership operators\n",
    "Bitwise operators\n"
   ]
  },
  {
   "cell_type": "code",
   "execution_count": null,
   "id": "eb8fc1d5",
   "metadata": {},
   "outputs": [],
   "source": [
    "Q15. What is difference between / and // operators?\n",
    "\n",
    "Float Division(\"/\"): Divides left hand operand by right hand operand.\n",
    "    Division works in Python the way it's mathematically defined.\n",
    "\n",
    "Floor Division(\"//\"): The division of operands where the result is the\n",
    "    quotient in which the digits after the decimal point are removed.\n",
    "    But if one of the operands is negative, the result is floored , i.e., rounded away from zero"
   ]
  },
  {
   "cell_type": "code",
   "execution_count": null,
   "id": "fa5f099b",
   "metadata": {},
   "outputs": [],
   "source": [
    "#Q16. Write a code that gives following as an output.\n",
    "# iNeuroniNeuroniNeuroniNeuron\n",
    "def string(a,b):\n",
    "    return a*b\n",
    "a=input(\"enter string\")\n",
    "b=int(input(\"enter integer\"))\n",
    "string(a,b)"
   ]
  },
  {
   "cell_type": "code",
   "execution_count": null,
   "id": "f04783cb",
   "metadata": {},
   "outputs": [],
   "source": [
    "#Q17. Write a code to take a number as an input from the\n",
    "#user and check if the number is odd or even.\n",
    "n=int(input(\"enter input\"))\n",
    "if n%2 == 0:\n",
    "    print(\"even\")\n",
    "if n%2 != 0:\n",
    "    print(\"odd\")\n"
   ]
  },
  {
   "cell_type": "code",
   "execution_count": null,
   "id": "b74bb3eb",
   "metadata": {},
   "outputs": [],
   "source": [
    "Q18. What are boolean operator?\n",
    "\n",
    "Boolean Operators are those that result in the\n",
    "Boolean values of True and False. These include and, or and not.\n",
    "While and & or require 2 operands, not is a unary operator.\n",
    "There are two types of operators in Python that return boolean values, i.e.,\n",
    "Logical operators and Comparison operators. Since both these operators have return types as boolean,\n",
    "they are also termed, Boolean operators. Boolean operators are most commonly used in arithmetic computations \n",
    "and logical comparisons"
   ]
  },
  {
   "cell_type": "code",
   "execution_count": null,
   "id": "c22ab44f",
   "metadata": {},
   "outputs": [],
   "source": [
    "#Q19. What will the output of the following?\n",
    "1 or 0                   ans:1\n",
    "\n",
    "0 and 0                  ans:0\n",
    "\n",
    "True and False and True  ans:False\n",
    "\n",
    "1 or 0 or 0              ans:1"
   ]
  },
  {
   "cell_type": "code",
   "execution_count": null,
   "id": "dbdb09e4",
   "metadata": {},
   "outputs": [],
   "source": [
    "Q20. What are conditional statements in Python?\n",
    "\n",
    "A conditional statement as the name suggests itself, is used to handle conditions in your program. \n",
    "These statements guide the program while making decisions based on the conditions encountered by the program.\n",
    "\n",
    "Python has 3 key Conditional Statements:\n",
    "\n",
    "if statement\n",
    "if-else statement\n",
    "if-elif-else ladder"
   ]
  },
  {
   "cell_type": "code",
   "execution_count": null,
   "id": "20c3958e",
   "metadata": {},
   "outputs": [],
   "source": [
    "Q21. What is use of 'if', 'elif' and 'else' keywords?\n",
    " if ,elif and else keywords are used to satisfy some conditional statements in program.\n",
    "    IF 'if' conditional statement is true then 'if' block code will be executed.\n",
    "    otherwise it goes to 'elif'conditional statement if it satisfies condition then 'elif' block code \n",
    "    will be executed or otherwise the 'else' block code is executed.all are used for decision making."
   ]
  },
  {
   "cell_type": "code",
   "execution_count": null,
   "id": "26ef9c2f",
   "metadata": {},
   "outputs": [],
   "source": [
    "#Q22. Write a code to take the age of person as\n",
    "#an input and if age >= 18 display \"I can vote\". \n",
    "#If age is < 18 display \"I can't vote\".\n",
    "age = int(input(\"enter your age \"))\n",
    "if age>=18:\n",
    "    print(\"Ican vote \")\n",
    "else:\n",
    "    if age < 18:\n",
    "        print(\"I can't  vote\")\n"
   ]
  },
  {
   "cell_type": "code",
   "execution_count": null,
   "id": "4c23c11b",
   "metadata": {},
   "outputs": [],
   "source": [
    "#Q23. Write a code that displays the sum of all\n",
    "#the even numbers from the given list.\n",
    "#numbers = [12, 75, 150, 180, 145, 525, 50]\n",
    "l= [12, 75, 150, 180, 145, 525, 50]\n",
    "sum = 0\n",
    "for i in range(len(l)):\n",
    "    if l[i]%2 == 0:\n",
    "        sum = sum +l[i]\n",
    "print(sum)"
   ]
  },
  {
   "cell_type": "code",
   "execution_count": null,
   "id": "dc8e5990",
   "metadata": {},
   "outputs": [],
   "source": [
    "#Q24. Write a code to take 3 numbers as an input from the user and\n",
    "#display the greatest no as output.\n",
    "\n",
    "a = int(input(\"enter integer1\"))\n",
    "b = int(input(\"enter integer2\"))\n",
    "c = int(input(\"enter integer3\"))\n",
    "if a>=b and a>=c:\n",
    "    print(a)\n",
    "elif b>=a and b>=c:\n",
    "    print(b)\n",
    "else:\n",
    "    print(c)"
   ]
  },
  {
   "cell_type": "code",
   "execution_count": null,
   "id": "1037daec",
   "metadata": {},
   "outputs": [],
   "source": [
    " #Q25. Write a program to display only those numbers from a list that\n",
    "#satisfy the following conditions\n",
    "\n",
    "#The number must be divisible by five\n",
    "\n",
    "#If the number is greater than 150, then skip it and move to the next number\n",
    "\n",
    "#If the number is greater than 500, then stop the loop\n",
    "#numbers = [12, 75, 150, 180, 145, 525, 50]\n",
    "\n",
    "\n",
    "l =  [12, 75, 150, 180, 145, 525, 50]\n",
    "i=0\n",
    "while i<=len(l): \n",
    "    if l[i]>500:\n",
    "        break;\n",
    "    if l[i]%5==0:\n",
    "        if l[i]>150:\n",
    "            i=i+1\n",
    "        else:\n",
    "            print(l[i])\n",
    "            i=i+1\n",
    "    else:\n",
    "        i=i+1\n",
    "          "
   ]
  },
  {
   "cell_type": "code",
   "execution_count": null,
   "id": "4979df65",
   "metadata": {},
   "outputs": [],
   "source": [
    "Q26. What is a string? How can we declare string in Python?\n",
    "\n",
    "strings in Python are arrays of bytes representing unicode characters.\n",
    "However, Python does not have a character data type, a single character is simply a string with a length of 1. "
   ]
  },
  {
   "cell_type": "code",
   "execution_count": null,
   "id": "fe82039f",
   "metadata": {},
   "outputs": [],
   "source": [
    "Q27. How can we access the string using its index?\n",
    "\n",
    "Square brackets can be used to access elements of the string.\n",
    "example:\n",
    "s=\"elephant\"\n",
    "to acces  characters \n",
    "s[0],s[1],s[2]..ect.,\n"
   ]
  },
  {
   "cell_type": "code",
   "execution_count": null,
   "id": "9d8dcf2f",
   "metadata": {},
   "outputs": [],
   "source": [
    "#Q28. Write a code to get the desired output of the following\n",
    "#string = \"Big Data iNeuron\"\n",
    "#desired_output = \"iNeuron\"\n",
    "string = input()\n",
    "x=string.split()\n",
    "for i in range(len(x)):\n",
    "    if x[i] == \"iNeuron\":\n",
    "        print(\"desired_output\",x[i])"
   ]
  },
  {
   "cell_type": "markdown",
   "id": "5ac7ec38",
   "metadata": {},
   "source": [
    "Q29. Write a code to get the desired output of the following\n",
    "\n",
    "string = \"Big Data iNeuron\"\n",
    "desired_output = \"norueNi\"\n",
    "\n"
   ]
  },
  {
   "cell_type": "code",
   "execution_count": null,
   "id": "fb345e10",
   "metadata": {},
   "outputs": [],
   "source": [
    "string = input()\n",
    "x=string.split()\n",
    "for i in range(len(x)):\n",
    "    if x[i] == \"iNeuron\":\n",
    "        print(\"desired_output\",x[i][::-1])"
   ]
  },
  {
   "cell_type": "markdown",
   "id": "7fd948d2",
   "metadata": {},
   "source": [
    "Q30. Resverse the string given in the above question.\n",
    "string = \"Big Data iNeuron\" "
   ]
  },
  {
   "cell_type": "code",
   "execution_count": null,
   "id": "6e5c7654",
   "metadata": {},
   "outputs": [],
   "source": [
    "string = \"Big Data iNeuron\"\n",
    "print(string[::-1])"
   ]
  },
  {
   "cell_type": "markdown",
   "id": "d3350dd3",
   "metadata": {},
   "source": [
    "Q31. How can you delete entire string at once?"
   ]
  },
  {
   "cell_type": "code",
   "execution_count": null,
   "id": "fa36cffa",
   "metadata": {},
   "outputs": [],
   "source": [
    "using del command entire string can be deleted,\n",
    "and python doesnot allow to deleting a specific character \n",
    "in string"
   ]
  },
  {
   "cell_type": "markdown",
   "id": "05cc6331",
   "metadata": {},
   "source": [
    "Q32. What is escape sequence?"
   ]
  },
  {
   "cell_type": "code",
   "execution_count": null,
   "id": "c3063905",
   "metadata": {},
   "outputs": [],
   "source": [
    "An escape sequence is a sequence of characters that, when \n",
    "used inside a character or string,does not represent \n",
    "itself but is converted into anothercharacter or series of \n",
    "characters.\n",
    "\n"
   ]
  },
  {
   "cell_type": "markdown",
   "id": "0094c57f",
   "metadata": {},
   "source": [
    "Q33. How can you print the below string?\n",
    "'iNeuron's Big Data Course'"
   ]
  },
  {
   "cell_type": "code",
   "execution_count": null,
   "id": "7e963bb0",
   "metadata": {},
   "outputs": [],
   "source": [
    "print('iNeuron\\'s Big Data Course')"
   ]
  },
  {
   "cell_type": "markdown",
   "id": "fdf79432",
   "metadata": {},
   "source": [
    "Q34. What is a list in Python?"
   ]
  },
  {
   "cell_type": "code",
   "execution_count": null,
   "id": "f262a4ad",
   "metadata": {},
   "outputs": [],
   "source": [
    "list is collection of elementsof similar or\n",
    "different data type.Lists are used to store\n",
    "multiple items in a single variable."
   ]
  },
  {
   "cell_type": "markdown",
   "id": "04008ea6",
   "metadata": {},
   "source": [
    "Q35. How can you create a list in Python?"
   ]
  },
  {
   "cell_type": "code",
   "execution_count": null,
   "id": "4f7af87c",
   "metadata": {},
   "outputs": [],
   "source": [
    "In Python, a list is created by placing elements inside \n",
    "square brackets [] , separated by commas. A list can \n",
    "have any number of items and they may\n",
    "be of different types (integer, float, string, etc.)"
   ]
  },
  {
   "cell_type": "code",
   "execution_count": null,
   "id": "2e04c900",
   "metadata": {},
   "outputs": [],
   "source": [
    "Q36. How can we access the elements in a list?\n",
    "   \n",
    "     To access values in lists, use the square brackets for slicing along \n",
    "with the index or indices to obtain value available at that index.\n"
   ]
  },
  {
   "cell_type": "code",
   "execution_count": null,
   "id": "60cabd63",
   "metadata": {},
   "outputs": [],
   "source": [
    "#Q37. Write a code to access\n",
    "#the word \"iNeuron\" from the given list.\n",
    "#lst = [1,2,3,\"Hi\",[45,54, \"iNeuron\"], \"Big Data\"]\n",
    "lst = [1,2,3,\"Hi\",[45,54, \"iNeuron\"], \"Big Data\"]\n",
    "print(lst[4][2])"
   ]
  },
  {
   "cell_type": "code",
   "execution_count": null,
   "id": "0360b060",
   "metadata": {},
   "outputs": [],
   "source": [
    "#Q38. Take a list as an input from the user\n",
    "#and find the length of the list.\n",
    "n = int(input(\"enter number of elements \"))\n",
    "lst = [int(x)  for x in input().split()]\n",
    "print(len(lst))"
   ]
  },
  {
   "cell_type": "code",
   "execution_count": null,
   "id": "b98c48da",
   "metadata": {},
   "outputs": [],
   "source": [
    "#Q39. Add the word \"Big\" in the 3rd index of the given list.\n",
    "\n",
    "lst = [\"Welcome\", \"to\", \"Data\", \"course\"]\n",
    "lst.insert(3,\"Big\")\n",
    "print(lst)"
   ]
  },
  {
   "cell_type": "code",
   "execution_count": null,
   "id": "cb3834e5",
   "metadata": {},
   "outputs": [],
   "source": [
    "Q40. What is a tuple? How is it different from list?\n",
    "The primary difference between tuples and lists is that tuples are immutable as opposed \n",
    "to lists which are mutable. \n",
    "Therefore, it is possible to change a list but nota tuple.\n",
    "The contents of a tuple cannot change once they have been created in Python due to the immutability of tuples."
   ]
  },
  {
   "cell_type": "code",
   "execution_count": null,
   "id": "aea1552c",
   "metadata": {},
   "outputs": [],
   "source": [
    "Q41. How can you create a tuple in Python?\n",
    "  \n",
    "    A tuple is created by placing all the items (elements) inside parentheses () , separated by commas.\n",
    "    "
   ]
  },
  {
   "cell_type": "code",
   "execution_count": null,
   "id": "78197d96",
   "metadata": {},
   "outputs": [],
   "source": [
    "#Q42. Create a tuple and try to add your name in the tuple. \n",
    "#Are you able to do it? Support your answer with reason.\n",
    "yes, i can.tuples are immutable so to add elements we need to \n",
    "change the tuple to list by using list constructor and after \n",
    "prforming operations on it can be converted to tuple using tuple\n",
    "constructor.\n",
    "tup=(9,5,\"uk\",8)\n",
    "n = list(tup)\n",
    "n.append(\"nasreen\")\n",
    "tup=tuple(n)\n",
    "print(tup)\n"
   ]
  },
  {
   "cell_type": "code",
   "execution_count": 35,
   "id": "d0b31add",
   "metadata": {},
   "outputs": [
    {
     "name": "stdout",
     "output_type": "stream",
     "text": [
      "(1, 2, 3, 5, 6, 7)\n"
     ]
    }
   ],
   "source": [
    "#Q43. Can two tuple be appended. \n",
    "#If yes, write a code for it. If not, why?\n",
    "#TO append to tuples we need to convert them into lists and\n",
    "#after performing  this result can be converted to tuple using tuple \n",
    "#constructor.\n",
    "h = (1,2,3)\n",
    "j = (5,6,7)\n",
    "a ,b = list(h),list(j)\n",
    "a = a+b\n",
    "a = tuple(a)\n",
    "print(a)\n"
   ]
  },
  {
   "cell_type": "code",
   "execution_count": null,
   "id": "32855598",
   "metadata": {},
   "outputs": [],
   "source": [
    "#Q44. Take a tuple as an input and print the count of elements in it.\n",
    "n = int(input(\"enter number of elements \"))\n",
    "tp = tuple(int(x)  for x in input().split())\n",
    "print(len(tp))"
   ]
  },
  {
   "cell_type": "code",
   "execution_count": null,
   "id": "9d3588ef",
   "metadata": {},
   "outputs": [],
   "source": [
    "Q45. What are sets in Python?\n",
    "\n",
    "Sets are used to store multiple items in a single variable.A set is a \n",
    "collection which is unordered, unchangeable*, and unindexed.\n",
    "Set is one of 4 built-in data types in Python used to store collections \n",
    "of data, the other 3 are List, Tuple, and Dictionary, all with different qualities and usage."
   ]
  },
  {
   "cell_type": "code",
   "execution_count": null,
   "id": "99f7c7a7",
   "metadata": {},
   "outputs": [],
   "source": [
    "Q46. How can you create a set?\n",
    "  \n",
    "Sets are written with curly brackets.\n",
    "thisset = {\"apple\", \"banana\", \"cherry\"}"
   ]
  },
  {
   "cell_type": "code",
   "execution_count": null,
   "id": "0ec5ce6c",
   "metadata": {},
   "outputs": [],
   "source": [
    "#Q47. Create a set and add \"iNeuron\" in your set.\n",
    "\n",
    "set = {\"apple\", \"banana\", \"cherry\"}\n",
    "\n",
    "set.add(\"iNeuron\")\n",
    "print(set)"
   ]
  },
  {
   "cell_type": "code",
   "execution_count": null,
   "id": "c09e4db4",
   "metadata": {},
   "outputs": [],
   "source": [
    "#Q48. Try to add multiple values using add() function.\n",
    "  \n",
    "  add() function takes exactly one argument only.so it is not possible to add multiple values using add()function."
   ]
  },
  {
   "cell_type": "code",
   "execution_count": null,
   "id": "5a96000a",
   "metadata": {},
   "outputs": [],
   "source": [
    "Q49. How is update() different from add()?\n",
    " \n",
    "    We use add() method to add single value to a set.\n",
    "    We use update() method to add sequence values to a set.\n",
    "    The object in the update() method does not have to be a set, \n",
    "    it can be any iterable object (tuples, lists, dictionaries etc.)."
   ]
  },
  {
   "cell_type": "code",
   "execution_count": null,
   "id": "3488d2ac",
   "metadata": {},
   "outputs": [],
   "source": [
    "Q50. What is clear() in sets?\n",
    " \n",
    "    The clear() method removes all items from the set."
   ]
  },
  {
   "cell_type": "code",
   "execution_count": null,
   "id": "1e70a496",
   "metadata": {},
   "outputs": [],
   "source": [
    "Q51. What is frozen set?\n",
    " \n",
    "    Frozen set is just an immutable version of a Python set object.\n",
    "    As it is a set object therefore we cannot have duplicate values in the frozenset."
   ]
  },
  {
   "cell_type": "code",
   "execution_count": null,
   "id": "bb60e587",
   "metadata": {},
   "outputs": [],
   "source": [
    "Q52. How is frozen set different from set?\n",
    "Frozen set is just an immutable version of a Python set object. While elements of a set can be modified at any time,\n",
    "elements of the frozen set remain the same after creation. \n",
    "Due to this, frozen sets can be used as keys in Dictionary or as elements of another set."
   ]
  },
  {
   "cell_type": "code",
   "execution_count": null,
   "id": "7df9a702",
   "metadata": {},
   "outputs": [],
   "source": [
    "#Q53. What is union() in sets? Explain via code.\n",
    " \n",
    "#Return a set that contains all items from both sets, duplicates are excluded\n",
    "x = {\"apple\", \"banana\", \"cherry\"}\n",
    "y = {\"google\", \"microsoft\", \"apple\"}\n",
    "z = x.union(y)\n",
    "\n",
    "print(z)"
   ]
  },
  {
   "cell_type": "code",
   "execution_count": null,
   "id": "c2185893",
   "metadata": {},
   "outputs": [],
   "source": [
    "#Q54. What is intersection() in sets? Explain via code\n",
    "#Return a set that contains the items that exist in both set x, and set y\n",
    "x = {\"apple\", \"banana\", \"cherry\"}\n",
    "y = {\"google\", \"microsoft\", \"apple\"}\n",
    "\n",
    "z = x.intersection(y)\n",
    "\n",
    "print(z)"
   ]
  },
  {
   "cell_type": "code",
   "execution_count": null,
   "id": "4f8b3007",
   "metadata": {},
   "outputs": [],
   "source": [
    "Q55. What is dictionary in Python?\n",
    " \n",
    "    Dictionaries are used to storedata values in key:value pairs.\n",
    "A dictionary is a collection which is ordered*, changeable and do not allow duplicates. \n",
    "As of Python version 3.7, dictionaries are ordered"
   ]
  },
  {
   "cell_type": "code",
   "execution_count": null,
   "id": "600f6668",
   "metadata": {},
   "outputs": [],
   "source": [
    "Q56. How is dictionary different from all other data structures.\n",
    " \n",
    "    A dictionary is a general-purpose data structure for storing a group of objects. \n",
    "    A dictionary has a set of keys and each key has a single associated value.\n",
    "\n",
    "A list is a collection of ordered data. A tuple is an ordered collection of\n",
    "data. A set is an unordered collection. A dictionary is an\n",
    "unordered collection of data that stores data in key-value pairs.\n"
   ]
  },
  {
   "cell_type": "code",
   "execution_count": null,
   "id": "8f408144",
   "metadata": {},
   "outputs": [],
   "source": [
    "Q57. How can we delare a dictionary in Python?\n",
    "\n",
    "In two ways dictionary is created.\n",
    "The first way is by using a set of curly braces, {} , \n",
    "and the second way is by using the built-in dict() function.\n",
    " #create an empty dictionary\n",
    "my_dictionary = {}\n",
    "#create an empty dictionary\n",
    "my_dictionary = dict()"
   ]
  },
  {
   "cell_type": "code",
   "execution_count": null,
   "id": "9b2531c4",
   "metadata": {},
   "outputs": [],
   "source": [
    "#Q58. What will the output of the following?\n",
    "var = {}\n",
    "print(type(var))\n",
    "ans:\n",
    "     <class 'dict'>"
   ]
  },
  {
   "cell_type": "code",
   "execution_count": null,
   "id": "faf10032",
   "metadata": {},
   "outputs": [],
   "source": [
    "Q59. How can we add an element in a dictionary?\n",
    "Adding an item to the dictionary is done by using a new index key and \n",
    "assigning a value to it:\n",
    "\n",
    "thisdict = {\n",
    "  \"brand\": \"Ford\",\n",
    "  \"model\": \"Mustang\",\n",
    "  \"year\": 1964\n",
    "}\n",
    "thisdict[\"color\"] = \"red\"\n",
    "print(thisdict)"
   ]
  },
  {
   "cell_type": "code",
   "execution_count": null,
   "id": "9d982e19",
   "metadata": {},
   "outputs": [],
   "source": [
    "#Q60. Create a dictionary and access all the values in that dictionary.\n",
    "#The values() method will return a list of all the values in the dictionary.\n",
    "thisdict = {\n",
    "  \"brand\": \"Ford\",\n",
    "  \"model\": \"Mustang\",\n",
    "  \"year\": 1964\n",
    "}\n",
    "print(thisdict.values())"
   ]
  },
  {
   "cell_type": "code",
   "execution_count": null,
   "id": "f5a07a16",
   "metadata": {},
   "outputs": [],
   "source": [
    "#Q61. Create a nested dictionary \n",
    "#and access all the element in the inner dictionary.\n",
    "\n",
    "dict = {'code1' : {1:'n', 2:'m', 3:'l'}}\n",
    "print(dict['code1'])"
   ]
  },
  {
   "cell_type": "code",
   "execution_count": null,
   "id": "e128066a",
   "metadata": {},
   "outputs": [],
   "source": [
    "Q62. What is the use of get() function?\n",
    "\n",
    "The get() method returns the value of the item with the specified key."
   ]
  },
  {
   "cell_type": "code",
   "execution_count": null,
   "id": "5aeb9442",
   "metadata": {},
   "outputs": [],
   "source": [
    "Q63. What is the use of items() function?\n",
    "\n",
    "The items() method returns a view object.\n",
    "The view object contains the key-value pairs of the dictionary, as tuples in a list.\n",
    "The view object will reflect any changes done to the dictionary."
   ]
  },
  {
   "cell_type": "code",
   "execution_count": null,
   "id": "1304137e",
   "metadata": {},
   "outputs": [],
   "source": [
    "Q64. What is the use of pop() function?\n",
    "\n",
    "The pop() method removes the element at the specified position.\n",
    "syntax:list_name.pop(elemnt_index)"
   ]
  },
  {
   "cell_type": "code",
   "execution_count": null,
   "id": "2c807880",
   "metadata": {},
   "outputs": [],
   "source": [
    "Q65. What is the use of popitems() function?\n",
    "Remove the last item from the dictionary"
   ]
  },
  {
   "cell_type": "code",
   "execution_count": null,
   "id": "ca78b82a",
   "metadata": {},
   "outputs": [],
   "source": [
    "Q66. What is the use of keys() function?\n",
    " the keys() function returns list of  all the keys in dictionary."
   ]
  },
  {
   "cell_type": "code",
   "execution_count": null,
   "id": "a1c33b20",
   "metadata": {},
   "outputs": [],
   "source": [
    "Q67. What is the use of values() function\n",
    " the values() function will return list of all the values in the dictionary."
   ]
  },
  {
   "cell_type": "code",
   "execution_count": null,
   "id": "e2703ae8",
   "metadata": {},
   "outputs": [],
   "source": [
    "Q68. What are loops in Python?\n",
    " \n",
    "    Looping means repeating something over and over until a particular condition is satisfied.\n",
    "    A for loop in Python is a control flow statement that is used to repeatedly execute a group of\n",
    "    statements as long as the condition is satisfied.\n",
    "    Such a type of statement is also known as an iterative statement"
   ]
  },
  {
   "cell_type": "code",
   "execution_count": null,
   "id": "9293d63a",
   "metadata": {},
   "outputs": [],
   "source": [
    "Q69. How many type of loop are there in Python\n",
    "  \n",
    "    there are three types of loops in python .\n",
    "    1. for loop\n",
    "    2.while loop\n",
    "    3.nested loop"
   ]
  },
  {
   "cell_type": "code",
   "execution_count": null,
   "id": "96c381c0",
   "metadata": {},
   "outputs": [],
   "source": [
    "Q70. What is the difference between for and while loops?\n",
    "  \n",
    "    The 'for' loop used only when we already knew the number of iterations.\n",
    "    The 'while' loop used only when the number of iteration are not exactly known.\n",
    "    If the condition is not put up in 'for' loop, then loop iterates infinite times. \n",
    "    If the condition is not put up in 'while' loop, it provides compilation error.\n",
    "    Range funtion is use in for loop ,range  function is not use in while loop.\n",
    "    For loop is faster than while loop.\n",
    "    \n"
   ]
  },
  {
   "cell_type": "code",
   "execution_count": null,
   "id": "1922c6e7",
   "metadata": {},
   "outputs": [],
   "source": [
    "Q71. What is the use of continue statement?\n",
    "\n",
    "The continue keyword is used to end the current iteration in a for loop (or a while loop),\n",
    "and continues to the next iteration."
   ]
  },
  {
   "cell_type": "code",
   "execution_count": null,
   "id": "b82cf32d",
   "metadata": {},
   "outputs": [],
   "source": [
    "Q72. What is the use of break statement?\n",
    "   The break is loop control statement the break.It is use to control the sequence of the loop.\n",
    "    statement  terminates the current loop and resumes execution at the next statement."
   ]
  },
  {
   "cell_type": "code",
   "execution_count": null,
   "id": "dedea95c",
   "metadata": {},
   "outputs": [],
   "source": [
    "Q73. What is the use of pass statement?\n",
    "\n",
    " The pass statement is used as a placeholder for future code.\n",
    "\n",
    "When the pass statement is executed, nothing happens, but you avoid getting an error when empty code is not allowed.\n",
    "\n",
    "Empty code is not allowed in loops, function definitions, class definitions, or in if statements."
   ]
  },
  {
   "cell_type": "code",
   "execution_count": null,
   "id": "56d08614",
   "metadata": {},
   "outputs": [],
   "source": [
    "Q74. What is the use of range() function?\n",
    " \n",
    "    The range() function returns a sequence of numbers, starting from 0 by default, \n",
    "    and increments by 1 (by default), and stops before a specified number."
   ]
  },
  {
   "cell_type": "code",
   "execution_count": null,
   "id": "68339904",
   "metadata": {},
   "outputs": [],
   "source": [
    "Q75. How can you loop over a dictionary?\n",
    " \n",
    "You can loop through a dictionary by using a for loop.\n",
    "\n",
    "When looping through a dictionary, the return value\n",
    "are the keys of the dictionary, but there are methods to return the\n",
    "values as well.\n"
   ]
  },
  {
   "cell_type": "markdown",
   "id": "75c40bef",
   "metadata": {},
   "source": [
    "# ###CODING PROBLEMS"
   ]
  },
  {
   "cell_type": "markdown",
   "id": "af074aa4",
   "metadata": {},
   "source": [
    "Q76. Write a Python program to find the factorial of a given number."
   ]
  },
  {
   "cell_type": "code",
   "execution_count": null,
   "id": "50b16a33",
   "metadata": {},
   "outputs": [],
   "source": [
    "def fact(N):\n",
    "    if N<=0:\n",
    "        return -1\n",
    "    elif N==1:\n",
    "        return 1\n",
    " \n",
    "    elif N>1:\n",
    "        factorial=1\n",
    "        for i in range(1,N+1):\n",
    "            \n",
    "            factorial = factorial*i\n",
    "        return factorial\n",
    "\n",
    "N = int(input('enter number'))\n",
    "fact(N)"
   ]
  },
  {
   "cell_type": "markdown",
   "id": "0498adc8",
   "metadata": {},
   "source": [
    "Q77. Write a Python program to calculate the simple interest. Formula to calculate simple interest is SI = (PRT)/100"
   ]
  },
  {
   "cell_type": "code",
   "execution_count": 9,
   "id": "e7ea1b94",
   "metadata": {},
   "outputs": [
    {
     "name": "stdout",
     "output_type": "stream",
     "text": [
      "enter principal amount1000\n",
      "enter time in years2\n",
      "enter rate of interest per year5\n",
      "100.0\n"
     ]
    }
   ],
   "source": [
    "p = int(input('enter principal amount'))\n",
    "t= int(input('enter time in years'))\n",
    "r =float(input('enter rate of interest per year'))\n",
    "simple_interest = ((p*t*r)/100)\n",
    "print(simple_interest)"
   ]
  },
  {
   "cell_type": "markdown",
   "id": "eed9ffa0",
   "metadata": {},
   "source": [
    "Q78. Write a Python program to calculate the compound interest.\n",
    "Formula of compound interest is A = P(1+ R/100)^t\n"
   ]
  },
  {
   "cell_type": "code",
   "execution_count": null,
   "id": "c0e1e118",
   "metadata": {},
   "outputs": [],
   "source": [
    "p = int(input('enter principal amount'))\n",
    "t= int(input('enter time in years'))\n",
    "r =float(input('enter rate of interest per year'))\n",
    "A =(p*((1+r/100)**t))\n",
    "compound_interest = A-p\n",
    "print(compound_interest)"
   ]
  },
  {
   "cell_type": "markdown",
   "id": "88220e49",
   "metadata": {},
   "source": [
    "output:\n",
    "enter principal amount10000\n",
    "enter time in years5\n",
    "enter rate of interest per year10.25\n",
    "6288.946267774416"
   ]
  },
  {
   "cell_type": "markdown",
   "id": "0cfd8933",
   "metadata": {},
   "source": [
    "Q79. Write a Python program to check if a number is prime or not.\n"
   ]
  },
  {
   "cell_type": "code",
   "execution_count": null,
   "id": "46b02b34",
   "metadata": {},
   "outputs": [],
   "source": [
    "def primenumber(n):\n",
    "    if n<2:\n",
    "        return False\n",
    "    else:\n",
    "        isprime=True\n",
    "        for i in range(2,n):\n",
    "            if n%i== 0:\n",
    "                isprime=False\n",
    "        return isprime\n",
    "n=int(input('enter number'))\n",
    "m=primenumber(n)    \n",
    "if m:\n",
    "    print('prime')\n",
    "else:\n",
    "    print('not prime')"
   ]
  },
  {
   "cell_type": "markdown",
   "id": "fa83f1b5",
   "metadata": {},
   "source": [
    "Q80. Write a Python program to check Armstrong Number.\n",
    " \n",
    "    "
   ]
  },
  {
   "cell_type": "code",
   "execution_count": null,
   "id": "4450b458",
   "metadata": {},
   "outputs": [],
   "source": [
    "m=int(input())\n",
    "result = 0\n",
    "i=m\n",
    "while i>0:\n",
    "    k=i%10\n",
    "    result=result+k**3\n",
    "    i=i//10\n",
    "if result == m:\n",
    "    print('amstrong number')\n",
    "else:\n",
    "    print('not amstrong number')"
   ]
  },
  {
   "cell_type": "markdown",
   "id": "04910c68",
   "metadata": {},
   "source": [
    "Q81. Write a Python program to find the n-th Fibonacci Number.\n",
    " "
   ]
  },
  {
   "cell_type": "code",
   "execution_count": null,
   "id": "e0ef36b1",
   "metadata": {},
   "outputs": [],
   "source": [
    "def fibonacci(n):\n",
    "    a = 0\n",
    "    b = 1\n",
    "    if n < 0:\n",
    "        print(\"Incorrect input\")\n",
    "    elif n == 0:\n",
    "        return a\n",
    "    elif n == 1:\n",
    "        return b\n",
    "    else:\n",
    "        for i in range(2, n):\n",
    "            a,b = b,a+b\n",
    "        return b\n",
    "n = int(input('enter numbe'))\n",
    "print(fibonacci(n))"
   ]
  },
  {
   "cell_type": "markdown",
   "id": "bebbc6d5",
   "metadata": {},
   "source": [
    "Q82. Write a Python program to interchange the first and\n",
    "last element in a list."
   ]
  },
  {
   "cell_type": "code",
   "execution_count": null,
   "id": "779017fa",
   "metadata": {},
   "outputs": [],
   "source": [
    "list=[1,3,4,5,6]\n",
    "k=len(list)\n",
    "list[0],list[k-1]=list[k-1],list[0]\n",
    "print(list)\n",
    "list[0],list[-1]=list[-1],list[0]\n",
    "print(list)"
   ]
  },
  {
   "cell_type": "markdown",
   "id": "5b2227d6",
   "metadata": {},
   "source": [
    "Q83. Write a Python program to swap two elements in a list."
   ]
  },
  {
   "cell_type": "code",
   "execution_count": null,
   "id": "d0320c86",
   "metadata": {},
   "outputs": [],
   "source": [
    "list1=[5,6,7,8,9,0]\n",
    "index1=int(input('enter index1'))\n",
    "index2=int(input('enter index2'))\n",
    "list1[index1],list1[index2]=list1[index2],list1[index1]\n",
    "print(list1)"
   ]
  },
  {
   "cell_type": "markdown",
   "id": "5bb7ddf2",
   "metadata": {},
   "source": [
    "Q84. Write a Python program to find N largest element from a list."
   ]
  },
  {
   "cell_type": "code",
   "execution_count": null,
   "id": "56028b97",
   "metadata": {},
   "outputs": [],
   "source": [
    "li=[1,3,4,5,6,7]\n",
    "temp=li[0]\n",
    "for i in range(1,len(li)):\n",
    "    if li[i]>temp:\n",
    "        temp=li[i]\n",
    "print(temp)"
   ]
  },
  {
   "cell_type": "markdown",
   "id": "58fbef08",
   "metadata": {},
   "source": [
    "Q85. Write a Python program to find cumulative sum of a list"
   ]
  },
  {
   "cell_type": "code",
   "execution_count": null,
   "id": "a599bf2a",
   "metadata": {},
   "outputs": [],
   "source": [
    "lii=[1,2,3,4]\n",
    "csum=[]\n",
    "for i in range(len(lii)):\n",
    "    x=sum(lii[:i+1])\n",
    "    csum.append(x)\n",
    "print(csum)"
   ]
  },
  {
   "cell_type": "markdown",
   "id": "84826d9a",
   "metadata": {},
   "source": [
    "Q86. Write a Python program to check if a string is palindrome or not"
   ]
  },
  {
   "cell_type": "code",
   "execution_count": null,
   "id": "d60f2684",
   "metadata": {},
   "outputs": [],
   "source": [
    "def palindrom(str):\n",
    "    l=0\n",
    "    e=len(st)-1\n",
    "    while e>l:\n",
    "        if st[e]!=st[l]:\n",
    "            return False\n",
    "        else:\n",
    "            e=e-1\n",
    "            l=l+1\n",
    "    return True\n",
    "\n",
    "st=input()\n",
    "if palindrom(st):\n",
    "    print('is palindrom')\n",
    "else:\n",
    "    print('not a palindrom')\n"
   ]
  },
  {
   "cell_type": "markdown",
   "id": "c6d53327",
   "metadata": {},
   "source": [
    "Q87. Write a Python program to remove i'th element from a string."
   ]
  },
  {
   "cell_type": "code",
   "execution_count": null,
   "id": "642b7038",
   "metadata": {},
   "outputs": [],
   "source": [
    "stt=input()\n",
    "i=int(input('enter i\\'th index'))\n",
    "output=stt[:i]+stt[i+1:]\n",
    "print(output)"
   ]
  },
  {
   "cell_type": "markdown",
   "id": "a12203ab",
   "metadata": {},
   "source": [
    "Q88. Write a Python program to check if a substring is present\n",
    "in a given string."
   ]
  },
  {
   "cell_type": "code",
   "execution_count": 19,
   "id": "54f8180b",
   "metadata": {},
   "outputs": [
    {
     "name": "stdout",
     "output_type": "stream",
     "text": [
      "abcdabcd\n",
      "ab\n",
      "yes\n"
     ]
    }
   ],
   "source": [
    "string = input()\n",
    "substring=input()\n",
    "if substring in string:\n",
    "    print('yes')\n",
    "else:\n",
    "    print('no')"
   ]
  },
  {
   "cell_type": "markdown",
   "id": "b24deb30",
   "metadata": {},
   "source": [
    "Q89. Write a Python program to find words which are greater than given length k."
   ]
  },
  {
   "cell_type": "code",
   "execution_count": null,
   "id": "0d83ed37",
   "metadata": {},
   "outputs": [],
   "source": [
    "stringg=input()\n",
    "s=stringg.split()\n",
    "k=int(input('enter length'))\n",
    "for word in s:\n",
    "    if len(word)>k:\n",
    "        print(word)\n",
    "        "
   ]
  },
  {
   "cell_type": "markdown",
   "id": "aba832a8",
   "metadata": {},
   "source": [
    "Q90. Write a Python program to extract unique dictionary values\n",
    " \n",
    "    "
   ]
  },
  {
   "cell_type": "code",
   "execution_count": null,
   "id": "18f4b3ec",
   "metadata": {},
   "outputs": [],
   "source": [
    "dic = {'A' : [1, 3, 5, 4], 'B' : [4, 6, 8, 10], \n",
    "       'C' : [6, 12, 4 ,8], 'D' : [5, 7, 2]}\n",
    "k = []\n",
    "for i in dic.keys():\n",
    "        k = k + dic[i]\n",
    "k = list(set(k))\n",
    "k.sort()\n",
    "print(k)\n"
   ]
  },
  {
   "cell_type": "markdown",
   "id": "30222973",
   "metadata": {},
   "source": [
    "Q91. Write a Python program to merge two dictionary."
   ]
  },
  {
   "cell_type": "code",
   "execution_count": null,
   "id": "0e9e23b4",
   "metadata": {},
   "outputs": [],
   "source": [
    "dic1 = {'A' : 1, 'B' :  6}\n",
    "dic2 = {'C' : 12, 'D' : 7}\n",
    "dic3 = dic1 | dic2\n",
    "print(dic3)"
   ]
  },
  {
   "cell_type": "markdown",
   "id": "90d9327d",
   "metadata": {},
   "source": [
    "Q92. Write a Python program to convert a list of tuples into dictionary.\n",
    " Input : [('Sachin', 10), ('MSD', 7), ('Kohli', 18), ('Rohit', 45)]\n",
    "Output : {'Sachin': 10, 'MSD': 7, 'Kohli': 18, 'Rohit': 45}"
   ]
  },
  {
   "cell_type": "code",
   "execution_count": null,
   "id": "f7a49385",
   "metadata": {},
   "outputs": [],
   "source": [
    "Input = [('Sachin', 10), ('MSD', 7), ('Kohli', 18), ('Rohit', 45)]\n",
    "input =dict(Input)\n",
    "print(input)"
   ]
  },
  {
   "cell_type": "markdown",
   "id": "bd254549",
   "metadata": {},
   "source": [
    "Q93. Write a Python program to create a list of tuples from given list having number and its cube in each tuple.Input: list = [9, 5, 6]\n",
    "Output: [(9, 729), (5, 125), (6, 216)]"
   ]
  },
  {
   "cell_type": "code",
   "execution_count": 31,
   "id": "550c056e",
   "metadata": {},
   "outputs": [
    {
     "name": "stdout",
     "output_type": "stream",
     "text": [
      "[(9, 729), (5, 125), (6, 216)]\n"
     ]
    }
   ],
   "source": [
    "list = [9, 5,6]\n",
    "res = [(val, val**3) for val in list]\n",
    "print(res)"
   ]
  },
  {
   "cell_type": "markdown",
   "id": "a3928750",
   "metadata": {},
   "source": [
    " Write a Python program to get all combinations of 2 tuples.Input : test_tuple1 = (7, 2), test_tuple2 = (7, 8)\n",
    "Output : [(7, 7), (7, 8), (2, 7), (2, 8), (7, 7), (7, 2), (8, 7), (8, 2)]"
   ]
  },
  {
   "cell_type": "code",
   "execution_count": null,
   "id": "718507ae",
   "metadata": {},
   "outputs": [],
   "source": [
    "test_tuple1 = (7, 2)\n",
    "test_tuple2 = (7, 8) \n",
    "res =  [(a, b) for a in test_tuple1 for b in test_tuple2]\n",
    "res = res +  [(a, b) for a in test_tuple2 for b in test_tuple1]\n",
    "print(res)"
   ]
  },
  {
   "cell_type": "markdown",
   "id": "a15ca700",
   "metadata": {},
   "source": [
    "Q95. Write a Python program to sort a list of tuples by second item.Input : [('for', 24), ('Geeks', 8), ('Geeks', 30)] \n",
    "Output : [('Geeks', 8), ('for', 24), ('Geeks', 30)]"
   ]
  },
  {
   "cell_type": "code",
   "execution_count": null,
   "id": "e85eeeca",
   "metadata": {},
   "outputs": [],
   "source": [
    "In= [('for', 24), ('Geeks', 8), ('Geeks', 30)] \n",
    "for i in range(0,len(In)):\n",
    "    for j in range(0,len(In)-i-1):\n",
    "        if (In[j][1] > In[j + 1][1]):\n",
    "            In[j],In[j+1] = In[j+1],In[j]\n",
    "print(In)"
   ]
  },
  {
   "cell_type": "code",
   "execution_count": null,
   "id": "608fc57f",
   "metadata": {},
   "outputs": [],
   "source": [
    "Q96. Write a python program to print below pattern.\n",
    "* \n",
    "* * \n",
    "* * * \n",
    "* * * * \n",
    "* * * * * "
   ]
  },
  {
   "cell_type": "code",
   "execution_count": null,
   "id": "b044c9ad",
   "metadata": {},
   "outputs": [],
   "source": [
    "n = 5\n",
    "for i in range(n):\n",
    "    for j in range(i+1):\n",
    "        print('*',end=\" \")\n",
    "    print()\n",
    "    "
   ]
  },
  {
   "cell_type": "code",
   "execution_count": null,
   "id": "ebd4032e",
   "metadata": {},
   "outputs": [],
   "source": [
    "Q97. Write a python program to print below pattern.\n",
    "    *\n",
    "   **\n",
    "  ***\n",
    " ****\n",
    "*****"
   ]
  },
  {
   "cell_type": "code",
   "execution_count": null,
   "id": "0f49b510",
   "metadata": {},
   "outputs": [],
   "source": [
    "n = 5\n",
    "for i in range(n):\n",
    "    for k in range(n-i):\n",
    "        print(\" \",end=\" \")\n",
    "    for j in range(i+1):\n",
    "        print('*',end=\" \")\n",
    "    print()"
   ]
  },
  {
   "cell_type": "code",
   "execution_count": null,
   "id": "31d9eabd",
   "metadata": {},
   "outputs": [],
   "source": [
    "Q98. Write a python program to print below pattern.\n",
    "    * \n",
    "   * * \n",
    "  * * * \n",
    " * * * * \n",
    "* * * * * "
   ]
  },
  {
   "cell_type": "code",
   "execution_count": null,
   "id": "d10a02bc",
   "metadata": {},
   "outputs": [],
   "source": [
    "n = int(input())\n",
    "i = 1\n",
    "while i <= n:\n",
    "    s = 1\n",
    "    while s <=((n//2)-i+2):\n",
    "        print(\" \",end=\"\")\n",
    "        s = s + 1\n",
    "    j = 1\n",
    "    while j <= i:\n",
    "        print(\"*\",end =\"\")\n",
    "        j = j+1\n",
    "    print()\n",
    "    i = i+1"
   ]
  },
  {
   "cell_type": "code",
   "execution_count": null,
   "id": "0329090e",
   "metadata": {},
   "outputs": [],
   "source": [
    "Q99. Write a python program to print below pattern\n",
    "1 \n",
    "1 2 \n",
    "1 2 3 \n",
    "1 2 3 4 \n",
    "1 2 3 4 5"
   ]
  },
  {
   "cell_type": "code",
   "execution_count": null,
   "id": "b6e9668e",
   "metadata": {},
   "outputs": [],
   "source": [
    "n = 5\n",
    "for i in range(n):\n",
    "    for j in range(1,i+2):\n",
    "        print(j,end=\" \")\n",
    "    print()"
   ]
  },
  {
   "cell_type": "code",
   "execution_count": null,
   "id": "4f73d048",
   "metadata": {},
   "outputs": [],
   "source": [
    "Q100. Write a python program to print below pattern.\n",
    "A \n",
    "B B \n",
    "C C C \n",
    "D D D D \n",
    "E E E E E "
   ]
  },
  {
   "cell_type": "code",
   "execution_count": 26,
   "id": "7a2557c6",
   "metadata": {},
   "outputs": [
    {
     "name": "stdout",
     "output_type": "stream",
     "text": [
      "A \n",
      "B B \n",
      "C C C \n",
      "D D D D \n",
      "E E E E E \n"
     ]
    }
   ],
   "source": [
    "n = 5\n",
    "for i in range(n):\n",
    "    for j in range(1,i+2):\n",
    "        print(chr(ord('A')+i),end=\" \")\n",
    "    print()"
   ]
  },
  {
   "cell_type": "code",
   "execution_count": null,
   "id": "1537da7e",
   "metadata": {},
   "outputs": [],
   "source": []
  },
  {
   "cell_type": "code",
   "execution_count": null,
   "id": "81601b3c",
   "metadata": {},
   "outputs": [],
   "source": []
  },
  {
   "cell_type": "code",
   "execution_count": null,
   "id": "f3516a48",
   "metadata": {},
   "outputs": [],
   "source": []
  }
 ],
 "metadata": {
  "kernelspec": {
   "display_name": "Python 3 (ipykernel)",
   "language": "python",
   "name": "python3"
  },
  "language_info": {
   "codemirror_mode": {
    "name": "ipython",
    "version": 3
   },
   "file_extension": ".py",
   "mimetype": "text/x-python",
   "name": "python",
   "nbconvert_exporter": "python",
   "pygments_lexer": "ipython3",
   "version": "3.9.13"
  }
 },
 "nbformat": 4,
 "nbformat_minor": 5
}
