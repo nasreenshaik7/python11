{
 "cells": [
  {
   "cell_type": "markdown",
   "id": "056a5500",
   "metadata": {},
   "source": [
    "# Python OOP Assignment"
   ]
  },
  {
   "cell_type": "markdown",
   "id": "cfc5c72c",
   "metadata": {},
   "source": [
    "Q1. What is the purpose of Python's OOP?"
   ]
  },
  {
   "cell_type": "markdown",
   "id": "bb87ae13",
   "metadata": {},
   "source": [
    "In Python, object-oriented Programming (OOPs) is a programming paradigm that \n",
    "uses objects and classes in programming. \n",
    "    The main concept of OOPs is to bind the data and the functions that\n",
    "work on that together as a single unit so that no other part of the \n",
    "code can access this data."
   ]
  },
  {
   "cell_type": "markdown",
   "id": "6ff9d217",
   "metadata": {},
   "source": [
    "Q2. Where does an inheritance search look for an\n",
    "attribute?\n",
    "\n"
   ]
  },
  {
   "cell_type": "markdown",
   "id": "a5ad9f96",
   "metadata": {},
   "source": [
    "An inheritance search looks for an attribute first in the instance object, then in the class\n",
    "the instance was created from,\n",
    "then in all higher superclasses, progressing from left to right (by default). The search stops at the first place the attribute is found.\n",
    "\n",
    "  "
   ]
  },
  {
   "cell_type": "markdown",
   "id": "8c289fe9",
   "metadata": {},
   "source": [
    "Q3. How do you distinguish between a class \n",
    "object and an instance object?\n",
    "\n"
   ]
  },
  {
   "cell_type": "markdown",
   "id": "c4c00aac",
   "metadata": {},
   "source": [
    "The class = the blue print. The Object is an actual thing that is built based on \n",
    "the 'blue print' (like the house). An instance is a virtual copy (but not a real copy) of the object\n",
    "Classes are a kind of factory for creating multiple instances. Classes also support operator overloading methods, which instances inherit, and treat any functions nested in the class as methods for processing instances.\n",
    "\n",
    "class object is accesable by the class  name and the instance variable accesible by instance name .\n",
    "class object is available inside the class where instance object is only available inside the instance .\n"
   ]
  },
  {
   "cell_type": "markdown",
   "id": "aac7b242",
   "metadata": {},
   "source": [
    "Q4.What makes the first argument in a class’s method function special?"
   ]
  },
  {
   "cell_type": "markdown",
   "id": "f5631bd1",
   "metadata": {},
   "source": [
    "the first parameter of a function in class must be the object itself.It always receives the instance object that is the implied subject of the method call. It’s usually called 'self' by convention."
   ]
  },
  {
   "cell_type": "markdown",
   "id": "61620159",
   "metadata": {},
   "source": [
    "Q5. What is the purpose of the init method?\n",
    "\n"
   ]
  },
  {
   "cell_type": "markdown",
   "id": "dfe702cb",
   "metadata": {},
   "source": [
    "\n",
    "init is short for initialization. \n",
    "It is a constructor which gets called when you make an instance of the class and \n",
    "it is not necessary. \n",
    "\n",
    "If the __init__ method is coded or inherited in a class, Python calls it automatically each time an instance of that class is created.\n",
    "class New():\n",
    "def __init__(self, arg1, arg2):\n",
    "   self.first_var = arg1"
   ]
  },
  {
   "cell_type": "markdown",
   "id": "158c2c51",
   "metadata": {},
   "source": [
    "Q6. What is the process for creating a\n",
    "class instance?\n",
    "\n"
   ]
  },
  {
   "cell_type": "markdown",
   "id": "267352e7",
   "metadata": {},
   "source": [
    "When you create an object, you are creating an instance of a class, therefore \"instantiating\" a class. \n",
    "The new operator requires a single, postfix argument: a call to a constructor. The name of the constructor\n",
    "provides the name of the class to instantiate. The constructor initializes the new object.\n",
    "\n",
    "To create instances of a class, you call the class using class name and pass in whatever \n",
    "arguments its  __init__ method accepts."
   ]
  },
  {
   "cell_type": "markdown",
   "id": "aa2a2c75",
   "metadata": {},
   "source": [
    "Q7. What is the process for creating a class?\n",
    "\n"
   ]
  },
  {
   "cell_type": "markdown",
   "id": "692f645e",
   "metadata": {},
   "source": [
    "A class is a code template for creating objects. Objects have membervariables and have behaviour associated with them.\n",
    " \n",
    " To create a class, use the keyword class:\n",
    " \n",
    " class ClassName():\n"
   ]
  },
  {
   "cell_type": "markdown",
   "id": "da8493f4",
   "metadata": {},
   "source": [
    "Q8. How would you define the superclasses of a class?\n",
    "\n"
   ]
  },
  {
   "cell_type": "markdown",
   "id": "ef2c9451",
   "metadata": {},
   "source": [
    "A superclass is the class from which many subclasses can be created. The subclasses inherit the characteristics of a superclass. The superclass is also known as the parent class or base class."
   ]
  },
  {
   "cell_type": "markdown",
   "id": "a84bb0ea",
   "metadata": {},
   "source": [
    "Q9. What is the relationship between classes and modules?\n",
    "\n"
   ]
  },
  {
   "cell_type": "markdown",
   "id": "9743c5ce",
   "metadata": {},
   "source": [
    "A module in python is simply a way to organize the code, and it contains either python classes or just functions.\n",
    "If you need those classes or functions in your project, you just import them.\n",
    "\n",
    "Modules are collections of methods and constants. They cannot generate instances. Classes may generate instances (objects), and have per-instance state (instance variables).\n"
   ]
  },
  {
   "cell_type": "markdown",
   "id": "69db9684",
   "metadata": {},
   "source": [
    "Q10. How do you make instances and classes?"
   ]
  },
  {
   "cell_type": "markdown",
   "id": "6c4029a7",
   "metadata": {},
   "source": [
    "To create instances of a class, you call the class using class name and pass in whatever \n",
    "arguments its __init__ method accepts\n",
    "\n",
    "Instance = class(arguments)\n"
   ]
  },
  {
   "cell_type": "markdown",
   "id": "609c14e0",
   "metadata": {},
   "source": [
    "Q11. Where and how should be class attributes created?"
   ]
  },
  {
   "cell_type": "markdown",
   "id": "67c3082b",
   "metadata": {},
   "source": [
    "Class Attribute is an attribute/variable that is enclosed within a Class. That is, its scope lies within the Python class.\n",
    "The Class attribute in python creates only a single copy of itself and this single copy is shared and utilized by all the functions and objects within that particular class.\n",
    "\n",
    "To define a class attribute, you place it outside of the __init__() method.\n",
    "Use class_name. class_attribute or object_name. class_attribute to access the value of the class_attribute .\n",
    "\n",
    "class ClassName:\n",
    "   some_string = 'test'  # this is a class attribute"
   ]
  },
  {
   "cell_type": "markdown",
   "id": "432cc4f4",
   "metadata": {},
   "source": [
    "Q12. Where and how are instance attributes created?\n",
    "\n"
   ]
  },
  {
   "cell_type": "markdown",
   "id": "67a05b03",
   "metadata": {},
   "source": [
    "Instance attributes are attributes or properties attached to an instance of a class. Instance attributes are defined in the constructor.Defined inside a constructor using the self parameter.\n",
    "\n",
    "Accessed using object dot notation e.g. object.instance_attribute"
   ]
  },
  {
   "cell_type": "markdown",
   "id": "cc2d200d",
   "metadata": {},
   "source": [
    "Q13. What does the term \"self\" in a Python class mean?\n",
    "\n"
   ]
  },
  {
   "cell_type": "markdown",
   "id": "4431dd2c",
   "metadata": {},
   "source": [
    "self represents the instance of the class. By using the “self” we can access the attributes and methods of the class in python"
   ]
  },
  {
   "cell_type": "markdown",
   "id": "3c14cb38",
   "metadata": {},
   "source": [
    "Q14. How does a Python class handle operator overloading?\n",
    "\n"
   ]
  },
  {
   "cell_type": "markdown",
   "id": "5de53eb5",
   "metadata": {},
   "source": [
    "The operator overloading in Python means provide extended meaning beyond their predefined operational meaning. Such as, we use the \"+\" operator for adding two integers as well as joining two strings or merging two lists. We can achieve this as the \"+\" operator is overloaded by the \"int\" class and \"str\" class."
   ]
  },
  {
   "cell_type": "markdown",
   "id": "638bd9f4",
   "metadata": {},
   "source": [
    "Q15. When do you consider allowing operator overloading of your classes?\n",
    "\n"
   ]
  },
  {
   "cell_type": "markdown",
   "id": "f8d82998",
   "metadata": {},
   "source": [
    "When one or both operands are of a user-defined class or structure type, operator overloading makes it easier to specify user-defined implementation for such operations. This makes user-defined types more similar to the basic primitive data types in terms of behaviour."
   ]
  },
  {
   "cell_type": "markdown",
   "id": "175e42df",
   "metadata": {},
   "source": [
    "Q16. What is the most popular form of operator overloading?\n",
    "\n"
   ]
  },
  {
   "cell_type": "markdown",
   "id": "a097d57c",
   "metadata": {},
   "source": [
    "A very popular and convenient example is the Addition (+) operator. Just think how the '+' operator operates on two numbers and the same operator operates on two strings. It performs “Addition” on numbers whereas it performs “Concatenation” on strings."
   ]
  },
  {
   "cell_type": "markdown",
   "id": "9c0aa8bf",
   "metadata": {},
   "source": [
    "Q17. What are the two most important concepts to grasp in order to comprehend Python OOP code?\n",
    "\n"
   ]
  },
  {
   "cell_type": "markdown",
   "id": "f4f3501a",
   "metadata": {},
   "source": [
    "Both inheritance and polymorphism are fundamental concepts of object oriented programming. These concepts help us to create code that can be extended and easily maintainable."
   ]
  },
  {
   "cell_type": "markdown",
   "id": "c375a13a",
   "metadata": {},
   "source": [
    "Q18. Describe three applications for exception processing.\n",
    "\n"
   ]
  },
  {
   "cell_type": "markdown",
   "id": "0287898f",
   "metadata": {},
   "source": [
    "Exception handling can catch and throw exceptions. If a detecting function in a block of code cannot deal with an anomaly, the exception is thrown to a function that can handle the exception\n",
    "\n",
    "Exception handling is useful for dealing with exceptions that cannot be handled locally. Instead of showing an error status in the program, the exception handler transfers control to where the error can be handled.\n",
    "\n",
    "Error handling code can also be separated from normal code with the use of try blocks"
   ]
  },
  {
   "cell_type": "markdown",
   "id": "9173f41c",
   "metadata": {},
   "source": [
    "Q19. What happens if you don't do something extra to treat an exception?\n",
    "\n"
   ]
  },
  {
   "cell_type": "markdown",
   "id": "33ab5328",
   "metadata": {},
   "source": [
    "An exception object is created when a Python script raises an exception. If the script explicitly doesn't handle the exception, the program will be forced to terminate abruptly."
   ]
  },
  {
   "cell_type": "markdown",
   "id": "9fec4bb1",
   "metadata": {},
   "source": [
    "Q20. What are your options for recovering from an exception in your script?\n",
    "\n"
   ]
  },
  {
   "cell_type": "markdown",
   "id": "e5ab8b7e",
   "metadata": {},
   "source": [
    "You can also provide a generic except clause, which handles any exception. After the except clause(s), you can include an else-clause. The code in the else-block executes if the code in the try: block does not raise an exception. The else-block is a good place for code that does not need the try: block's protection"
   ]
  },
  {
   "cell_type": "markdown",
   "id": "8e97e290",
   "metadata": {},
   "source": [
    "Q21. Describe two methods for triggering exceptions in your script.\n",
    "\n"
   ]
  },
  {
   "cell_type": "markdown",
   "id": "3c580a84",
   "metadata": {},
   "source": [
    "1.Try – This method catches the exceptions raised by the program.\n",
    "2.Raise – Triggers an exception manually using custom exceptions."
   ]
  },
  {
   "cell_type": "markdown",
   "id": "1f59deb0",
   "metadata": {},
   "source": [
    "Q22. Identify two methods for specifying actions to be executed at termination time, regardless of\n",
    "whether or not an exception exists."
   ]
  },
  {
   "cell_type": "markdown",
   "id": "e5c9ca53",
   "metadata": {},
   "source": [
    "Finally block always executes irrespective of an exception being thrown or not. The final keyword allows you to create a block of code that follows a try-catch block. Finally, clause is optional. It is intended to define clean-up actions which should be that executed in all conditions\n",
    "\n",
    "As a Python developer you can choose to throw an exception if a condition occurs.\n",
    "\n",
    "To throw (or raise) an exception, use the raise keyword.\n",
    "The raise keyword is used to raise an exception\n",
    "\n",
    "The try ... except statement has an optional else clause. An else block has to be positioned after all the except clauses. An else clause will be executed if the try clause doesn't raise an exception."
   ]
  },
  {
   "cell_type": "markdown",
   "id": "09979908",
   "metadata": {},
   "source": [
    "Q23. What is the purpose of the try statement?\n",
    "\n"
   ]
  },
  {
   "cell_type": "markdown",
   "id": "1296762e",
   "metadata": {},
   "source": [
    "The try block lets you test a block of code for errors.\n",
    "When an error occurs, or exception as we call it, Python will normally stop and generate an error message.\n",
    "\n",
    "These exceptions can be handled using the try statement\n",
    "\n"
   ]
  },
  {
   "cell_type": "markdown",
   "id": "e8cf2c41",
   "metadata": {},
   "source": [
    "Q24. What are the two most popular try statement variations?\n",
    "\n"
   ]
  },
  {
   "cell_type": "markdown",
   "id": "11a53ce9",
   "metadata": {},
   "source": [
    "There are two other optional segments to a try block: else and finally . Both of these optional blocks will come after the try and the except . Also, there's nothing stopping you from using both else and finally in a single statement — but keep them in that order if you do."
   ]
  },
  {
   "cell_type": "markdown",
   "id": "0e0ac68d",
   "metadata": {},
   "source": [
    "Q25. What is the purpose of the raise statement?\n",
    "\n"
   ]
  },
  {
   "cell_type": "markdown",
   "id": "04c51740",
   "metadata": {},
   "source": [
    "As a Python developer you can choose to throw an exception if a condition occurs.\n",
    "\n",
    "To throw (or raise) an exception, use the raise keyword."
   ]
  },
  {
   "cell_type": "markdown",
   "id": "f79981d7",
   "metadata": {},
   "source": [
    "Q26. What does the assert statement do, and what other statement is it like?\n",
    "\n"
   ]
  },
  {
   "cell_type": "markdown",
   "id": "36b1fa9a",
   "metadata": {},
   "source": [
    "The assert keyword is used when debugging code. The assert keyword lets you test if a condition in your code returns True, if not, the program will raise an AssertionError.\n",
    "assert statement takes an expression and optional message. assert statement is used to check types, values of argument and the output of the function. assert statement is used as debugging tool as it halts the program at the point where an error occurs."
   ]
  },
  {
   "cell_type": "markdown",
   "id": "e3dbc295",
   "metadata": {},
   "source": [
    "Q27. What is the purpose of the with/as argument, and what other statement is it like?\n",
    "\n"
   ]
  },
  {
   "cell_type": "markdown",
   "id": "89e1cdb0",
   "metadata": {},
   "source": [
    "In Python, with statement is used in exception handling to make the code cleaner and much more readable. It simplifies the management of common resources like file streams. Observe the following code example on how the use of with statement makes code cleaner. \n",
    "\n",
    "# using with statement\n",
    "with open('file_path', 'w') as file:\n",
    "    file.write('hello world !')"
   ]
  },
  {
   "cell_type": "markdown",
   "id": "a8aa8c46",
   "metadata": {},
   "source": [
    "Q28. What are *args, **kwargs?\n",
    "\n"
   ]
  },
  {
   "cell_type": "markdown",
   "id": "7f72acee",
   "metadata": {},
   "source": [
    "the *args allows you to do is take in more arguments than the number of formal arguments that you previously defined, we want to make a multiply function that takes any number of arguments and is able to multiply them all together. It can be done using *args. \n",
    "\n",
    "def myFun(*argv):\n",
    "    for arg in argv:\n",
    "        print(arg)\n",
    " \n",
    " \n",
    "myFun('Hello', 'Welcome', 'to', 'GeeksforGeeks')\n",
    "\n",
    "\n",
    "Output:\n",
    "\n",
    "Hello\n",
    "Welcome\n",
    "to\n",
    "GeeksforGeeks\n",
    "\n",
    "\n",
    "The special syntax **kwargs in function definitions in python is used to pass a keyworded, variable-length argument list. We use the name kwargs with the double star. The reason is that the double star allows us to pass through keyword arguments\n",
    "\n",
    "\n",
    "def myFun(**kwargs):\n",
    "    for key, value in kwargs.items():\n",
    "        print(\"%s == %s\" % (key, value))\n",
    " \n",
    " \n",
    "\n",
    "myFun(first='Geeks', mid='for', last='Geeks')\n",
    "\n",
    "\n",
    "Output:\n",
    "\n",
    "first == Geeks\n",
    "mid == for\n",
    "last == Geeks\n"
   ]
  },
  {
   "cell_type": "markdown",
   "id": "c42d62c0",
   "metadata": {},
   "source": [
    "Q29. How can I pass optional or keyword parameters from one function to another?\n",
    "\n"
   ]
  },
  {
   "cell_type": "markdown",
   "id": "271333e4",
   "metadata": {},
   "source": [
    "To pass, collect the arguments using the * and ** in the function’s parameter list. Through this, you will get the positional arguments as a tuple and the keyword arguments as a dictionary. Pass these arguments when calling another function by using * and **\n",
    "  \n",
    "  \n",
    "  def f(a, *args, **kwargs):\n",
    "   ...\n",
    "   kwargs['width'] = '14.3c'\n",
    "   ...\n",
    "   g(a, *args, **kwargs)\n",
    "   \n",
    "   \n",
    "To pass optional or keyword parameters from one function to another, collect the arguments using the * and ** specifiers in the function’s parameter list But, at first, do know what are *args and **args in Python\n",
    "\n",
    "def demo(*car):\n",
    "   print(\"Car 1 = \",car[0])\n",
    "   print(\"Car 2 = \",car[1])\n",
    "   print(\"Car 3 = \", car[2])\n",
    "   print(\"Car 4 = \", car[3])\n",
    "\n",
    "# call\n",
    "demo(\"Tesla\", \"Audi\", \"BMW\", \"Toyota\")\n",
    "\n",
    "Output\n",
    "('Car 1 = ', 'Tesla')\n",
    "('Car 2 = ', 'Audi')\n",
    "('Car 3 = ', 'BMW')\n",
    "('Car 4 = ', 'Toyota')\n",
    "\n",
    "def demo(**c):\n",
    "   print(\"Car Name: \"+c[\"name\"])\n",
    "   print(\"Car Model: \"+c[\"model\"])\n",
    "\n",
    "# call\n",
    "demo(name = \"Tesla\", model = \"2022\")\n",
    "\n",
    "\n",
    "Car Name: Tesla\n",
    "Car Model: 2022\n",
    "\n"
   ]
  },
  {
   "cell_type": "markdown",
   "id": "e53678b9",
   "metadata": {},
   "source": [
    "Q30. What are Lambda Functions?\n",
    "\n"
   ]
  },
  {
   "cell_type": "markdown",
   "id": "3658241d",
   "metadata": {},
   "source": [
    "A lambda function is a small anonymous function.\n",
    "\n",
    "A lambda function can take any number of arguments, but can only have one expression.\n",
    "syntax \n",
    "lambda arguments : expression\n",
    "\n",
    "example:\n",
    "\n",
    "x = lambda a, b, c : a + b + c"
   ]
  },
  {
   "cell_type": "markdown",
   "id": "fe26fa04",
   "metadata": {},
   "source": [
    "Q31. Explain Inheritance in Python with an example?\n",
    "\n"
   ]
  },
  {
   "cell_type": "markdown",
   "id": "5df09bf4",
   "metadata": {},
   "source": [
    "Inheritance is a way by which a subclass inherits attributes and behaviors of a parent or base class and can have its own as well.\n",
    "Inheritance is the process of involving building classes upon an existing classes. So that additional functionality can be added. Using inheritance the hierarchical relationships are established. Inheritance allows the reusability of an existing operations and extending the basic unit of a class without creating from the scratch.\n",
    "\n",
    "class Person:\n",
    "  def __init__(self, fname, lname):\n",
    "    self.firstname = fname\n",
    "    self.lastname = lname\n",
    "\n",
    "  def printname(self):\n",
    "    print(self.firstname, self.lastname)\n",
    "\n",
    "#Use the Person class to create an object, and then execute the printname method:\n",
    "\n",
    "x = Person(\"John\", \"Doe\")\n",
    "x.printname()\n",
    "\n",
    "\n",
    "class Student(Person):\n",
    "  pass\n",
    "\n",
    "x = Student(\"Mike\", \"Olsen\")\n",
    "x.printname()"
   ]
  },
  {
   "cell_type": "markdown",
   "id": "1ebaf307",
   "metadata": {},
   "source": [
    "Q32. Suppose class C inherits from classes A and B as class C(A,B).Classes A and B both have their own versions of method func(). If we call func() from an object of class C, which version gets invoked?\n",
    "\n",
    "If we call func() from an object of class C, class A version gets invoked\n",
    "\n"
   ]
  },
  {
   "cell_type": "markdown",
   "id": "10ee6a09",
   "metadata": {},
   "source": [
    "Q33. Which methods/functions do we use to determine the type of instance and inheritance?\n",
    "\n"
   ]
  },
  {
   "cell_type": "markdown",
   "id": "c3675335",
   "metadata": {},
   "source": [
    "The isinstance() method checks whether an object is an instance of a class whereas issubclass() method asks whether one class is a subclass of another class (or other classes).\n",
    "\n",
    "isinstance(object, classinfo)\n",
    "Return true if the object argument is an instance of the classinfo argument, or of a (direct, indirect or virtual) subclass thereof.\n",
    "\n",
    "issubclass(class, classinfo)\n",
    "Return true if class is a subclass (direct, indirect or virtual) of classinfo. A class is considered a subclass of itself."
   ]
  },
  {
   "cell_type": "markdown",
   "id": "db327f1d",
   "metadata": {},
   "source": [
    "Q34.Explain the use of the 'nonlocal' keyword in Python.\n",
    "\n"
   ]
  },
  {
   "cell_type": "markdown",
   "id": "e99626ca",
   "metadata": {},
   "source": [
    "The nonlocal keyword is used to work with variables inside nested functions, where the variable should not belong to the inner function. Use the keyword nonlocal to declare that the variable is not local\n",
    "\n",
    "def myfunc1():\n",
    "  x = \"John\"\n",
    "  def myfunc2():\n",
    "    nonlocal x\n",
    "    x = \"hello\"\n",
    "  myfunc2() \n",
    "  return x\n",
    "\n",
    "print(myfunc1())"
   ]
  },
  {
   "cell_type": "markdown",
   "id": "a007d36b",
   "metadata": {},
   "source": [
    "Q35. What is the global keyword?\n",
    "\n"
   ]
  },
  {
   "cell_type": "markdown",
   "id": "88e489fb",
   "metadata": {},
   "source": [
    "The global keyword is used to create global variables from a no-global scope, e.g. inside a function.\n",
    "\n",
    "#create a function:\n",
    "def myfunction():\n",
    "  global x\n",
    "  x = \"hello\"\n",
    "\n",
    "#execute the function:\n",
    "myfunction()\n",
    "\n",
    "#x should now be global, and accessible in the global scope.\n",
    "print(x)"
   ]
  }
 ],
 "metadata": {
  "kernelspec": {
   "display_name": "Python 3 (ipykernel)",
   "language": "python",
   "name": "python3"
  },
  "language_info": {
   "codemirror_mode": {
    "name": "ipython",
    "version": 3
   },
   "file_extension": ".py",
   "mimetype": "text/x-python",
   "name": "python",
   "nbconvert_exporter": "python",
   "pygments_lexer": "ipython3",
   "version": "3.9.13"
  }
 },
 "nbformat": 4,
 "nbformat_minor": 5
}
