{
 "cells": [
  {
   "cell_type": "markdown",
   "id": "360cadb3",
   "metadata": {},
   "source": [
    "Q1. How do you load a CSV file into a Pandas DataFrame?"
   ]
  },
  {
   "cell_type": "markdown",
   "id": "9ad0cfe7",
   "metadata": {},
   "source": [
    "import pandas as pd\n",
    "\n",
    "pd.read_csv('csv filepath')"
   ]
  },
  {
   "cell_type": "markdown",
   "id": "d4496505",
   "metadata": {},
   "source": [
    "Q2. How do you check the data type of a column in a Pandas DataFrame?"
   ]
  },
  {
   "cell_type": "markdown",
   "id": "d3ff2660",
   "metadata": {},
   "source": [
    "To check data type of every column we can use dtype attribute . The attribute returns a series with the data type of each column. And the column names of the DataFrame are represented as the index of the resultant series object and the corresponding data types are returned as values of the series object.\n",
    " \n",
    " \n",
    "import pandas as pd\n",
    "\n",
    "df = pd.read_csv('filepath')\n",
    "df.dtype\n"
   ]
  },
  {
   "cell_type": "markdown",
   "id": "6a4c9319",
   "metadata": {},
   "source": [
    "Q3. How do you select rows from a Pandas DataFrame based on a condition?"
   ]
  },
  {
   "cell_type": "code",
   "execution_count": 4,
   "id": "14572baa",
   "metadata": {},
   "outputs": [
    {
     "data": {
      "text/html": [
       "<div>\n",
       "<style scoped>\n",
       "    .dataframe tbody tr th:only-of-type {\n",
       "        vertical-align: middle;\n",
       "    }\n",
       "\n",
       "    .dataframe tbody tr th {\n",
       "        vertical-align: top;\n",
       "    }\n",
       "\n",
       "    .dataframe thead th {\n",
       "        text-align: right;\n",
       "    }\n",
       "</style>\n",
       "<table border=\"1\" class=\"dataframe\">\n",
       "  <thead>\n",
       "    <tr style=\"text-align: right;\">\n",
       "      <th></th>\n",
       "      <th>name</th>\n",
       "      <th>age</th>\n",
       "    </tr>\n",
       "  </thead>\n",
       "  <tbody>\n",
       "    <tr>\n",
       "      <th>0</th>\n",
       "      <td>nas</td>\n",
       "      <td>24</td>\n",
       "    </tr>\n",
       "    <tr>\n",
       "      <th>1</th>\n",
       "      <td>reh</td>\n",
       "      <td>22</td>\n",
       "    </tr>\n",
       "  </tbody>\n",
       "</table>\n",
       "</div>"
      ],
      "text/plain": [
       "  name  age\n",
       "0  nas   24\n",
       "1  reh   22"
      ]
     },
     "execution_count": 4,
     "metadata": {},
     "output_type": "execute_result"
    }
   ],
   "source": [
    "#we can select rows based on particular column value using '>', '=', '=', '<=', '!=' operator.\n",
    " \n",
    "import pandas as pd\n",
    "df = pd.DataFrame({'name':['nas','reh','muk'],\n",
    "             'age':[24,22,20]\n",
    "             })\n",
    "#selecting row based on condition\n",
    "df[df['age']>20]"
   ]
  },
  {
   "cell_type": "markdown",
   "id": "5919a613",
   "metadata": {},
   "source": [
    "Q4. How do you rename columns in a Pandas DataFrame?"
   ]
  },
  {
   "cell_type": "code",
   "execution_count": 17,
   "id": "e872fd96",
   "metadata": {},
   "outputs": [
    {
     "data": {
      "text/html": [
       "<div>\n",
       "<style scoped>\n",
       "    .dataframe tbody tr th:only-of-type {\n",
       "        vertical-align: middle;\n",
       "    }\n",
       "\n",
       "    .dataframe tbody tr th {\n",
       "        vertical-align: top;\n",
       "    }\n",
       "\n",
       "    .dataframe thead th {\n",
       "        text-align: right;\n",
       "    }\n",
       "</style>\n",
       "<table border=\"1\" class=\"dataframe\">\n",
       "  <thead>\n",
       "    <tr style=\"text-align: right;\">\n",
       "      <th></th>\n",
       "      <th>rename</th>\n",
       "    </tr>\n",
       "  </thead>\n",
       "  <tbody>\n",
       "    <tr>\n",
       "      <th>0</th>\n",
       "      <td>a</td>\n",
       "    </tr>\n",
       "    <tr>\n",
       "      <th>1</th>\n",
       "      <td>b</td>\n",
       "    </tr>\n",
       "    <tr>\n",
       "      <th>2</th>\n",
       "      <td>c</td>\n",
       "    </tr>\n",
       "  </tbody>\n",
       "</table>\n",
       "</div>"
      ],
      "text/plain": [
       "  rename\n",
       "0      a\n",
       "1      b\n",
       "2      c"
      ]
     },
     "execution_count": 17,
     "metadata": {},
     "output_type": "execute_result"
    }
   ],
   "source": [
    "import pandas as pd\n",
    "\n",
    "df1=pd.DataFrame({'name' :['a','b','c']\n",
    "            })\n",
    "df1\n",
    "#here a ,b, c are coloumns names\n",
    "df1.rename(columns={'name':'rename'},inplace=True)\n",
    "df1\n",
    " #by using rename() function we can rename the columns"
   ]
  },
  {
   "cell_type": "markdown",
   "id": "aa689697",
   "metadata": {},
   "source": [
    "Q5. How do you drop columns in a Pandas DataFrame?"
   ]
  },
  {
   "cell_type": "code",
   "execution_count": 27,
   "id": "e655f05e",
   "metadata": {},
   "outputs": [
    {
     "data": {
      "text/html": [
       "<div>\n",
       "<style scoped>\n",
       "    .dataframe tbody tr th:only-of-type {\n",
       "        vertical-align: middle;\n",
       "    }\n",
       "\n",
       "    .dataframe tbody tr th {\n",
       "        vertical-align: top;\n",
       "    }\n",
       "\n",
       "    .dataframe thead th {\n",
       "        text-align: right;\n",
       "    }\n",
       "</style>\n",
       "<table border=\"1\" class=\"dataframe\">\n",
       "  <thead>\n",
       "    <tr style=\"text-align: right;\">\n",
       "      <th></th>\n",
       "      <th>name</th>\n",
       "    </tr>\n",
       "  </thead>\n",
       "  <tbody>\n",
       "    <tr>\n",
       "      <th>0</th>\n",
       "      <td>nas</td>\n",
       "    </tr>\n",
       "    <tr>\n",
       "      <th>1</th>\n",
       "      <td>reh</td>\n",
       "    </tr>\n",
       "    <tr>\n",
       "      <th>2</th>\n",
       "      <td>muk</td>\n",
       "    </tr>\n",
       "  </tbody>\n",
       "</table>\n",
       "</div>"
      ],
      "text/plain": [
       "  name\n",
       "0  nas\n",
       "1  reh\n",
       "2  muk"
      ]
     },
     "execution_count": 27,
     "metadata": {},
     "output_type": "execute_result"
    }
   ],
   "source": [
    "import pandas as pd\n",
    "df = pd.DataFrame({'name':['nas','reh','muk'],\n",
    "             'age':[24,22,20]\n",
    "             })\n",
    "df.drop(['age'], axis=1) # or del df['age']\n"
   ]
  },
  {
   "cell_type": "markdown",
   "id": "48035007",
   "metadata": {},
   "source": [
    "Q6. How do you find the unique values in a column of a Pandas DataFrame?"
   ]
  },
  {
   "cell_type": "code",
   "execution_count": 31,
   "id": "98363952",
   "metadata": {},
   "outputs": [
    {
     "data": {
      "text/plain": [
       "array([1, 2, 3], dtype=int64)"
      ]
     },
     "execution_count": 31,
     "metadata": {},
     "output_type": "execute_result"
    }
   ],
   "source": [
    "data = {\n",
    "    'A':[1,2,3,4], \n",
    "    'B':[1,2,2,3], \n",
    "    'C':[6,7,8,6], \n",
    "    'D':[6,7,6,4], \n",
    "    }\n",
    "dff= pd.DataFrame(data)\n",
    "#to get unique values using unique() function\n",
    "dff.B.unique()"
   ]
  },
  {
   "cell_type": "markdown",
   "id": "a231baef",
   "metadata": {},
   "source": [
    "Q7. How do you find the number of missing values in each column of a Pandas DataFrame?"
   ]
  },
  {
   "cell_type": "code",
   "execution_count": null,
   "id": "351e74b4",
   "metadata": {},
   "outputs": [],
   "source": [
    "we can use the following syntax to count NaN values in Pandas DataFrame:\n",
    "    (1) Count NaN values under a single DataFrame column:\n",
    "        df['column name'].isna().sum()\n",
    "    \n",
    "    (2) Count NaN values under an entire DataFrame:\n",
    "        df.isna().sum().sum()\n",
    "        \n",
    "    (3) Count NaN values across a single DataFrame row:\n",
    "        df.loc[[index value]].isna().sum().sum()"
   ]
  },
  {
   "cell_type": "markdown",
   "id": "34d9ecc9",
   "metadata": {},
   "source": [
    "Q8. How do you fill missing values in a Pandas DataFrame with a specific value?"
   ]
  },
  {
   "cell_type": "code",
   "execution_count": null,
   "id": "9f7849d6",
   "metadata": {},
   "outputs": [],
   "source": [
    "syntax:\n",
    "    \n",
    "dataframe.fillna(value, method, axis, inplace, limit, downcast)\n",
    "\n",
    "example:\n",
    "\n",
    "import pandas as pd\n",
    "\n",
    "df = pd.read_csv('data.csv')\n",
    "\n",
    "newdf = df.fillna(222222)\n",
    " \n",
    "Using fillna() funtion we can fill missing values in a Pandas DataFrame with a specific value"
   ]
  },
  {
   "cell_type": "code",
   "execution_count": null,
   "id": "dc7b3130",
   "metadata": {},
   "outputs": [],
   "source": [
    "Q9. How do you concatenate two Pandas DataFrames?"
   ]
  },
  {
   "cell_type": "code",
   "execution_count": null,
   "id": "e93f8243",
   "metadata": {},
   "outputs": [],
   "source": [
    "using concat() function we can concatenate two Pandas DataFrames\n",
    "syntax:\n",
    "    pd.concat(dataframe1,dataframe2)"
   ]
  },
  {
   "cell_type": "markdown",
   "id": "cb87d269",
   "metadata": {},
   "source": [
    "Q10. How do you merge two Pandas DataFrames on a specific column?"
   ]
  },
  {
   "cell_type": "code",
   "execution_count": null,
   "id": "b6d9a872",
   "metadata": {},
   "outputs": [],
   "source": [
    "# using merge() funtion we can merge two dataframes\n",
    "\n",
    "# importing modules\n",
    "import pandas as pd\n",
    "  \n",
    "# creating a dataframe\n",
    "df1 = pd.DataFrame({'Name':['Raju', 'Rani', 'Geeta', 'Sita', 'Sohit'],\n",
    "                    'Marks':[80, 90, 75, 88, 59]})\n",
    "  \n",
    "# creating another dataframe with different data\n",
    "df2 = pd.DataFrame({'Name':['Raju', 'Divya', 'Geeta', 'Sita'],\n",
    "                    'Grade':['A', 'A', 'B', 'A'],\n",
    "                    'Rank':[3, 1, 4, 2 ],\n",
    "                    'Gender':['Male', 'Female', 'Female', 'Female']})\n",
    "# display df1\n",
    "display(df1)\n",
    "  \n",
    "# display df2\n",
    "display(df2)\n",
    "# applying merge\n",
    "df1.merge(df2[['Name', 'Grade', 'Rank']])\n",
    "\n",
    "\n"
   ]
  },
  {
   "cell_type": "markdown",
   "id": "e3d47b6c",
   "metadata": {},
   "source": [
    "Q11. How do you group data in a Pandas DataFrame by a specific column and apply an aggregation function?"
   ]
  },
  {
   "cell_type": "code",
   "execution_count": null,
   "id": "cc2135c9",
   "metadata": {},
   "outputs": [],
   "source": [
    "using groupby() funtion and by using count() or sum() funtion \n",
    "syntax :\n",
    "    dataframe.groupby(index_name).count()\n",
    "    dataframe.groupby(index_name).sum()\n",
    "# to specific columns\n",
    " dataframe.groupby()[column_name].sum()"
   ]
  },
  {
   "cell_type": "markdown",
   "id": "4b770b41",
   "metadata": {},
   "source": [
    "Q12. How do you pivot a Pandas DataFrame?"
   ]
  },
  {
   "cell_type": "markdown",
   "id": "e66790f6",
   "metadata": {},
   "source": [
    "The pivot() function is used to reshaped a given DataFrame organized by given\n",
    "index / column values. This function does not support data aggregation,\n",
    "multiple values will result in a MultiIndex in the columns.\n",
    "\n",
    "DataFrame.pivot(self, index=None, columns=None, values=None)\n"
   ]
  },
  {
   "cell_type": "code",
   "execution_count": 33,
   "id": "2183f0a3",
   "metadata": {},
   "outputs": [
    {
     "data": {
      "text/html": [
       "<div>\n",
       "<style scoped>\n",
       "    .dataframe tbody tr th:only-of-type {\n",
       "        vertical-align: middle;\n",
       "    }\n",
       "\n",
       "    .dataframe tbody tr th {\n",
       "        vertical-align: top;\n",
       "    }\n",
       "\n",
       "    .dataframe thead th {\n",
       "        text-align: right;\n",
       "    }\n",
       "</style>\n",
       "<table border=\"1\" class=\"dataframe\">\n",
       "  <thead>\n",
       "    <tr style=\"text-align: right;\">\n",
       "      <th>bbb</th>\n",
       "      <th>P</th>\n",
       "      <th>Q</th>\n",
       "      <th>R</th>\n",
       "    </tr>\n",
       "    <tr>\n",
       "      <th>fff</th>\n",
       "      <th></th>\n",
       "      <th></th>\n",
       "      <th></th>\n",
       "    </tr>\n",
       "  </thead>\n",
       "  <tbody>\n",
       "    <tr>\n",
       "      <th>one</th>\n",
       "      <td>2</td>\n",
       "      <td>3</td>\n",
       "      <td>4</td>\n",
       "    </tr>\n",
       "    <tr>\n",
       "      <th>two</th>\n",
       "      <td>5</td>\n",
       "      <td>6</td>\n",
       "      <td>7</td>\n",
       "    </tr>\n",
       "  </tbody>\n",
       "</table>\n",
       "</div>"
      ],
      "text/plain": [
       "bbb  P  Q  R\n",
       "fff         \n",
       "one  2  3  4\n",
       "two  5  6  7"
      ]
     },
     "execution_count": 33,
     "metadata": {},
     "output_type": "execute_result"
    }
   ],
   "source": [
    "import pandas as pd\n",
    "df = pd.DataFrame({'fff': ['one', 'one', 'one', 'two', 'two',\n",
    "                           'two'],\n",
    "                   'bbb': ['P', 'Q', 'R', 'P', 'Q', 'R'],\n",
    "                   'baa': [2, 3, 4, 5, 6, 7],\n",
    "                   'zzz': ['h', 'i', 'j', 'k', 'l', 'm']})\n",
    "df\n",
    "df.pivot(index='fff', columns='bbb', values='baa')"
   ]
  },
  {
   "cell_type": "markdown",
   "id": "a0740a4a",
   "metadata": {},
   "source": [
    "Q13. How do you change the data type of a column in a Pandas DataFrame?\n",
    "\n"
   ]
  },
  {
   "cell_type": "markdown",
   "id": "50bf42f0",
   "metadata": {},
   "source": [
    "Change column type in pandas using dictionary and DataFrame.astype()\n",
    "\n"
   ]
  },
  {
   "cell_type": "code",
   "execution_count": 34,
   "id": "b39d9e39",
   "metadata": {},
   "outputs": [
    {
     "name": "stdout",
     "output_type": "stream",
     "text": [
      "A      int32\n",
      "B     object\n",
      "C    float64\n",
      "dtype: object\n"
     ]
    }
   ],
   "source": [
    "import pandas as pd\n",
    " \n",
    "# sample dataframe\n",
    "df = pd.DataFrame({\n",
    "    'A': [1, 2, 3, 4, 5],\n",
    "    'B': ['a', 'b', 'c', 'd', 'e'],\n",
    "    'C': [1.1, '1.0', '1.3', 2, 5]})\n",
    " \n",
    "# using dictionary to convert specific columns\n",
    "d = {'A': int,\n",
    "                'C': float\n",
    "                }\n",
    " \n",
    "df = df.astype(d)\n",
    "print(df.dtypes)\n"
   ]
  },
  {
   "cell_type": "markdown",
   "id": "74b12289",
   "metadata": {},
   "source": [
    "Change column type in pandas using DataFrame.apply() "
   ]
  },
  {
   "cell_type": "code",
   "execution_count": 35,
   "id": "c5df7765",
   "metadata": {},
   "outputs": [
    {
     "name": "stdout",
     "output_type": "stream",
     "text": [
      "A      int64\n",
      "B     object\n",
      "C    float64\n",
      "dtype: object\n"
     ]
    }
   ],
   "source": [
    "# importing pandas as pd\n",
    "import pandas as pd\n",
    "\n",
    "df7 = pd.DataFrame({\n",
    "    'A': [1, 2, 3, '4', '5'],\n",
    "    'B': ['a', 'b', 'c', 'd', 'e'],\n",
    "    'C': [1.1, '2.1', 3.0, '4.1', '5.1']})\n",
    "\n",
    "# using apply method\n",
    "df7[['A', 'C']] = df7[['A', 'C']].apply(pd.to_numeric)\n",
    "print(df7.dtypes)\n"
   ]
  },
  {
   "cell_type": "markdown",
   "id": "9e474354",
   "metadata": {},
   "source": [
    "Q14. How do you sort a Pandas DataFrame by a specific column?\n",
    "\n"
   ]
  },
  {
   "cell_type": "code",
   "execution_count": null,
   "id": "0ba2658e",
   "metadata": {},
   "outputs": [],
   "source": [
    "To sort the DataFrame based on the values in a single column, we'll use .\n",
    "sort_values(). By default, this will return a new DataFrame sorted in\n",
    "ascending order. It does not modify the original DataFrame.\n",
    "\n",
    "df.sort_values(column_name)"
   ]
  },
  {
   "cell_type": "markdown",
   "id": "161d38f7",
   "metadata": {},
   "source": [
    "Q15. How do you create a copy of a Pandas DataFrame?\n",
    "\n"
   ]
  },
  {
   "cell_type": "code",
   "execution_count": null,
   "id": "7c83d9ab",
   "metadata": {},
   "outputs": [],
   "source": [
    "The copy() method returns a copy of the DataFrame.\n",
    "newdf=olddf.copy()"
   ]
  },
  {
   "cell_type": "markdown",
   "id": "c851c874",
   "metadata": {},
   "source": [
    "Q16. How do you filter rows of a Pandas DataFrame by multiple conditions?\n",
    "\n"
   ]
  },
  {
   "cell_type": "code",
   "execution_count": null,
   "id": "6c60ff27",
   "metadata": {},
   "outputs": [],
   "source": [
    "import pandas as pd\n",
    "df = pd.read_csv('https://raw.githubusercontent.com/datasciencedojo/datasets/master/titanic.csv')\n",
    "\n",
    "df[df['Name'].str.startswith(\"S\") & df['Age']>25]['Name'] \n"
   ]
  },
  {
   "cell_type": "markdown",
   "id": "081d531e",
   "metadata": {},
   "source": [
    "Q17. How do you calculate the mean of a column in a Pandas DataFrame?\n",
    "\n"
   ]
  },
  {
   "cell_type": "code",
   "execution_count": null,
   "id": "19966ac2",
   "metadata": {},
   "outputs": [],
   "source": [
    "df[column_name].mean()\n",
    "\n",
    "To get column average or mean from pandas DataFrame use either mean() and describe() method.\n",
    "The DataFrame. mean() method is used to return the mean of the value for the requested axis."
   ]
  },
  {
   "cell_type": "markdown",
   "id": "c2f98c6a",
   "metadata": {},
   "source": [
    "Q18. How do you calculate the standard deviation of a column in a Pandas DataFrame?\n",
    "\n"
   ]
  },
  {
   "cell_type": "code",
   "execution_count": null,
   "id": "facc16b3",
   "metadata": {},
   "outputs": [],
   "source": [
    "Standard deviation is calculated using the function . std() . However, \n",
    "the Pandas library creates the Dataframe object and then the function .\n",
    "std() is applied on that Dataframe \n",
    "\n",
    "df[column_name].std()"
   ]
  },
  {
   "cell_type": "code",
   "execution_count": null,
   "id": "e9e36895",
   "metadata": {},
   "outputs": [],
   "source": [
    "Q19. How do you calculate the correlation between two columns in a Pandas DataFrame?"
   ]
  },
  {
   "cell_type": "code",
   "execution_count": null,
   "id": "ad5e52e3",
   "metadata": {},
   "outputs": [],
   "source": [
    "By using corr() function we can get the correlation between two columns in the dataframe.\n",
    "\n",
    "Syntax: dataframe['first_column'].corr(dataframe['second_column'])\n",
    "    "
   ]
  },
  {
   "cell_type": "code",
   "execution_count": null,
   "id": "f1d0f072",
   "metadata": {},
   "outputs": [],
   "source": [
    "Q20. How do you select specific columns in a DataFrame using their labels?\n",
    "\n"
   ]
  },
  {
   "cell_type": "code",
   "execution_count": null,
   "id": "34b01b3e",
   "metadata": {},
   "outputs": [],
   "source": [
    "syntax:\n",
    "    \n",
    "df[[column_name1,column_name2,..]] or df[specific column names]"
   ]
  },
  {
   "cell_type": "code",
   "execution_count": null,
   "id": "427e5332",
   "metadata": {},
   "outputs": [],
   "source": [
    "Q21. How do you select specific rows in a DataFrame using their indexes ?\n",
    "\n",
    "df.loc[index]\n",
    "or\n",
    "df.iloc[default_index]"
   ]
  },
  {
   "cell_type": "code",
   "execution_count": null,
   "id": "5223de54",
   "metadata": {},
   "outputs": [],
   "source": [
    "Q22. How do you sort a DataFrame by a specific column?\n",
    "\n",
    "df.sort_values(column_name)\n"
   ]
  },
  {
   "cell_type": "code",
   "execution_count": null,
   "id": "103084f3",
   "metadata": {},
   "outputs": [],
   "source": [
    "Q23. How do you create a new column in a DataFrame based on the values of another column?\n",
    "\n",
    "we can add/append a new column to the DataFrame based on the values of another\n",
    "column using df.assign(), df.apply(), and, np.where() functionand return a\n",
    "new Dataframe after adding a new column.\n",
    "\n",
    "df[new_column]=df[df[column_name] condition]\n"
   ]
  },
  {
   "cell_type": "code",
   "execution_count": 37,
   "id": "97f3f434",
   "metadata": {},
   "outputs": [
    {
     "data": {
      "text/html": [
       "<div>\n",
       "<style scoped>\n",
       "    .dataframe tbody tr th:only-of-type {\n",
       "        vertical-align: middle;\n",
       "    }\n",
       "\n",
       "    .dataframe tbody tr th {\n",
       "        vertical-align: top;\n",
       "    }\n",
       "\n",
       "    .dataframe thead th {\n",
       "        text-align: right;\n",
       "    }\n",
       "</style>\n",
       "<table border=\"1\" class=\"dataframe\">\n",
       "  <thead>\n",
       "    <tr style=\"text-align: right;\">\n",
       "      <th></th>\n",
       "      <th>name</th>\n",
       "      <th>salary</th>\n",
       "    </tr>\n",
       "  </thead>\n",
       "  <tbody>\n",
       "    <tr>\n",
       "      <th>0</th>\n",
       "      <td>John</td>\n",
       "      <td>10000</td>\n",
       "    </tr>\n",
       "    <tr>\n",
       "      <th>1</th>\n",
       "      <td>Ted</td>\n",
       "      <td>20000</td>\n",
       "    </tr>\n",
       "    <tr>\n",
       "      <th>2</th>\n",
       "      <td>Dev</td>\n",
       "      <td>50000</td>\n",
       "    </tr>\n",
       "    <tr>\n",
       "      <th>3</th>\n",
       "      <td>Brad</td>\n",
       "      <td>45500</td>\n",
       "    </tr>\n",
       "    <tr>\n",
       "      <th>4</th>\n",
       "      <td>Rex</td>\n",
       "      <td>19800</td>\n",
       "    </tr>\n",
       "  </tbody>\n",
       "</table>\n",
       "</div>"
      ],
      "text/plain": [
       "   name  salary\n",
       "0  John   10000\n",
       "1   Ted   20000\n",
       "2   Dev   50000\n",
       "3  Brad   45500\n",
       "4   Rex   19800"
      ]
     },
     "metadata": {},
     "output_type": "display_data"
    },
    {
     "data": {
      "text/html": [
       "<div>\n",
       "<style scoped>\n",
       "    .dataframe tbody tr th:only-of-type {\n",
       "        vertical-align: middle;\n",
       "    }\n",
       "\n",
       "    .dataframe tbody tr th {\n",
       "        vertical-align: top;\n",
       "    }\n",
       "\n",
       "    .dataframe thead th {\n",
       "        text-align: right;\n",
       "    }\n",
       "</style>\n",
       "<table border=\"1\" class=\"dataframe\">\n",
       "  <thead>\n",
       "    <tr style=\"text-align: right;\">\n",
       "      <th></th>\n",
       "      <th>name</th>\n",
       "      <th>salary</th>\n",
       "      <th>salary_stats</th>\n",
       "    </tr>\n",
       "  </thead>\n",
       "  <tbody>\n",
       "    <tr>\n",
       "      <th>0</th>\n",
       "      <td>John</td>\n",
       "      <td>10000</td>\n",
       "      <td>low</td>\n",
       "    </tr>\n",
       "    <tr>\n",
       "      <th>1</th>\n",
       "      <td>Ted</td>\n",
       "      <td>20000</td>\n",
       "      <td>low</td>\n",
       "    </tr>\n",
       "    <tr>\n",
       "      <th>2</th>\n",
       "      <td>Dev</td>\n",
       "      <td>50000</td>\n",
       "      <td>very good</td>\n",
       "    </tr>\n",
       "    <tr>\n",
       "      <th>3</th>\n",
       "      <td>Brad</td>\n",
       "      <td>45500</td>\n",
       "      <td>better</td>\n",
       "    </tr>\n",
       "    <tr>\n",
       "      <th>4</th>\n",
       "      <td>Rex</td>\n",
       "      <td>19800</td>\n",
       "      <td>low</td>\n",
       "    </tr>\n",
       "  </tbody>\n",
       "</table>\n",
       "</div>"
      ],
      "text/plain": [
       "   name  salary salary_stats\n",
       "0  John   10000          low\n",
       "1   Ted   20000          low\n",
       "2   Dev   50000    very good\n",
       "3  Brad   45500       better\n",
       "4   Rex   19800          low"
      ]
     },
     "metadata": {},
     "output_type": "display_data"
    }
   ],
   "source": [
    "example:\n",
    "    \n",
    "data = {\n",
    "    \"name\": [\"John\", \"Ted\", \"Dev\", \"Brad\", \"Rex\", \"Smith\", \"Samuel\", \"David\"],\n",
    "    \"salary\": [10000, 20000, 50000, 45500, 19800, 95000, 5000, 50000]\n",
    "}\n",
    "# create dataframe from data dictionary\n",
    "df = pd.DataFrame(data)\n",
    "# print the dataframe\n",
    "display(df.head())\n",
    "\n",
    "def salary_stats(value):\n",
    "    if value < 10000:\n",
    "        return \"very low\"\n",
    "    if 10000 <= value < 25000:\n",
    "        return \"low\"\n",
    "    elif 25000 <= value < 40000:\n",
    "        return \"average\"\n",
    "    elif 40000 <= value < 50000:\n",
    "        return \"better\"\n",
    "    elif value >= 50000:\n",
    "        return \"very good\"\n",
    "\n",
    "df['salary_stats'] = df['salary'].map(salary_stats)\n",
    "display(df.head())\n"
   ]
  },
  {
   "cell_type": "code",
   "execution_count": null,
   "id": "1053679d",
   "metadata": {},
   "outputs": [],
   "source": [
    "Q24. How do you remove duplicates from a DataFrame?\n",
    "\n"
   ]
  },
  {
   "cell_type": "code",
   "execution_count": null,
   "id": "206eaa2d",
   "metadata": {},
   "outputs": [],
   "source": [
    "The drop_duplicates() method removes duplicate rows\n",
    "syntax:\n",
    "    dataframe.drop_duplicates(subset, keep, inplace, ignore_index)\n",
    "    \n",
    "import pandas as pd\n",
    "\n",
    "data = {\n",
    "  \"name\": [\"Sally\", \"Mary\", \"John\", \"Mary\"],\n",
    "  \"age\": [50, 40, 30, 40],\n",
    "  \"qualified\": [True, False, False, False]\n",
    "}\n",
    "\n",
    "df = pd.DataFrame(data)\n",
    "\n",
    "newdf = df.drop_duplicates()"
   ]
  },
  {
   "cell_type": "code",
   "execution_count": null,
   "id": "33b9ee25",
   "metadata": {},
   "outputs": [],
   "source": [
    "Q25. What is the difference between .loc and .iloc in Pandas?\n",
    "\n",
    "Both are used to select specific rows in a DataFrame using their indexes\n",
    "where  loc takes   index_name of dataframe ,\n",
    "where iloc takes default index of dataframe\n",
    "syntax:\n",
    "        \n",
    "df.loc[index]\n",
    "\n",
    "df.iloc[default_index]\n"
   ]
  }
 ],
 "metadata": {
  "kernelspec": {
   "display_name": "Python 3 (ipykernel)",
   "language": "python",
   "name": "python3"
  },
  "language_info": {
   "codemirror_mode": {
    "name": "ipython",
    "version": 3
   },
   "file_extension": ".py",
   "mimetype": "text/x-python",
   "name": "python",
   "nbconvert_exporter": "python",
   "pygments_lexer": "ipython3",
   "version": "3.9.13"
  }
 },
 "nbformat": 4,
 "nbformat_minor": 5
}
